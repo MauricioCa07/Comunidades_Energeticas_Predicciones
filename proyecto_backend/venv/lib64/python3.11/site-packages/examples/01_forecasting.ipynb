{
 "cells": [
  {
   "cell_type": "markdown",
   "metadata": {},
   "source": [
    "**Set-up instructions:** this notebook give a tutorial on the forecasting learning task supported by `sktime`.\n",
    "On binder, this should run out-of-the-box.\n",
    "\n",
    "To run this notebook as intended, ensure that `sktime` with basic dependency requirements is installed in your python environment.\n",
    "\n",
    "To run this notebook with a local development version of sktime, an editable developer installation is recommended, see the [sktime developer install guide](https://www.sktime.net/en/stable/installation.html#development-versions) for instructions."
   ]
  },
  {
   "cell_type": "markdown",
   "metadata": {},
   "source": [
    "# Forecasting with sktime\n",
    "\n",
    "In forecasting, past data is used to make temporal forward predictions of a time series. This is notably different from tabular prediction tasks supported by `scikit-learn` and similar libraries.\n",
    "\n",
    "\n",
    "<img src=\"img/forecasting.png\" width=750 />\n",
    "\n",
    "`sktime` provides a common, `scikit-learn`-like interface to a variety of classical and ML-style forecasting algorithms, together with tools for building pipelines and composite machine learning models, including temporal tuning schemes, or reductions such as walk-forward application of `scikit-learn` regressors.\n",
    "\n",
    "**Section 1** provides an overview of common forecasting workflows supported by `sktime`.\n",
    "\n",
    "**Section 2** discusses the families of forecasters available in `sktime`.\n",
    "\n",
    "**Section 3** discusses advanced composition patterns, including pipeline building, reduction, tuning, ensembling, and autoML.\n",
    "\n",
    "**Section 4** gives an introduction to how to write custom estimators compliant with the `sktime` interface.\n",
    "\n",
    "Further references:\n",
    "* For further details on how forecasting is different from supervised prediction à la `scikit-learn`, and pitfalls of misdiagnosing forecasting as supervised prediction, have a look at [this notebook](./01a_forecasting_sklearn.ipynb)\n",
    "* For a scientific reference, take a look at [our paper on forecasting with sktime](https://arxiv.org/abs/2005.08067) in which we discuss `sktime`'s forecasting module in more detail and use it to replicate and extend the M4 study."
   ]
  },
  {
   "attachments": {},
   "cell_type": "markdown",
   "metadata": {},
   "source": [
    "## Table of Contents\n",
    "\n",
    "* [1. Basic forecasting workflows](#chapter1)\n",
    "    * [1.1 Data container format](#section_1_1)\n",
    "    * [1.2 Basic deployment workflow - batch fitting and forecasting](#section_1_2)\n",
    "        * [1.2.1 Basic deployment workflow in a nutshell](#section_1_2_1)\n",
    "        * [1.2.2 Forecasters that require the horizon when fitting](#section_1_2_2)\n",
    "        * [1.2.3 Forecasters that can make use of exogeneous data](#section_1_2_3)\n",
    "        * [1.2.4 Multivariate Forecasters](#section_1_2_4)\n",
    "        * [1.2.5 Prediction intervals and quantile forecasts](#section_1_2_5)  \n",
    "        * [1.2.6 Panel forecasts and hierarchical forecasts](#section_1_2_6)    \n",
    "    * [1.3 Basic evaluation workflow - evaluating a batch of forecasts against ground truth observations](#section_1_3)   \n",
    "        * [1.3.1 The basic batch forecast evaluation workflow in a nutshell - function metric interface](#section_1_3_1)\n",
    "        * [1.3.2 The basic batch forecast evaluation workflow in a nutshell - metric class interface](#section_1_3_2)           \n",
    "    * [1.4 Advanced deployment workflow: rolling updates & forecasts](#section_1_4) \n",
    "        * [1.4.1 Updating a forecaster with the update method](#section_1_4_1)    \n",
    "        * [1.4.2 Moving the \"now\" state without updating the model](#section_1_4_2)   \n",
    "        * [1.4.3 Walk-forward predictions on a batch of data](#section_1_4_3)  \n",
    "    * [1.5 Advanced evaluation workflow: rolling re-sampling and aggregate errors, rolling back-testing](#section_1_5)         \n",
    "* [2. Forecasters in sktime - searching, tags, common families](#chapter2)\n",
    "    * [2.1 Forecaster lookup - the registry](#section_2_1)\n",
    "    * [2.2 Forecaster tags](#section_2_2)\n",
    "        * [2.2.1 Capability tags: multivariate, probabilistic, hierarchical](#section_2_2_1)\n",
    "        * [2.2.2 Finding and listing forecasters by tag](#section_2_2_2)\n",
    "        * [2.2.3 Listing all forecaster tags](#section_2_2_3)\n",
    "    * [2.3 Common forecaster types](#section_2_3)\n",
    "        * [2.3.1 Exponential smoothing, theta forecaster, autoETS from statsmodels](#section_2_3_1)\n",
    "        * [2.3.2 ARIMA and autoARIMA](#section_2_3_2)\n",
    "        * [2.3.3 BATS and TBATS](#section_2_3_3)    \n",
    "        * [2.3.4 Facebook prophet](#section_2_3_4)  \n",
    "        * [2.3.5 State Space Model (Structural Time Series)](#section_2_3_5)  \n",
    "        * [2.3.6 AutoArima from StatsForecast](#section_2_3_6)  \n",
    "* [3. Advanced composition patterns - pipelines, reduction, autoML, and more](#chapter3)\n",
    "    * [3.1 Reduction: from forecasting to regression](#section_3_1)\n",
    "    * [3.2 Pipelining, detrending and deseasonalization](#section_3_2)    \n",
    "        * [3.2.1 The basic forecasting pipeline](#section_3_2_1)\n",
    "        * [3.2.2 The Detrender as pipeline component](#section_3_2_2) \n",
    "        * [3.2.3 Complex pipeline composites and parameter inspection](#section_3_2_3)        \n",
    "    * [3.3 Parameter tuning](#section_3_3)      \n",
    "        * [3.3.1 Basic tuning using ForecastingGridSearchCV](#section_3_3_1)  \n",
    "        * [3.3.2 Tuning of complex composites](#section_3_3_2)        \n",
    "        * [3.3.3 Selecting the metric and retrieving scores](#section_3_3_3) \n",
    "    * [3.4 autoML aka automated model selection, ensembling and hedging](#section_3_4) \n",
    "        * [3.4.1 autoML aka automatic model selection, using tuning plus multiplexer](#section_3_4_1)   \n",
    "        * [3.4.2 autoML: selecting transformer combinations via OptimalPassthrough](#section_3_4_2)  \n",
    "        * [3.4.3 Simple ensembling strategies](#section_3_4_3)   \n",
    "        * [3.4.4 Prediction weighted ensembles and hedge ensembles](#section_3_4_4)  \n",
    "* [4. Extension guide - implementing your own forecaster](#chapter4)        \n",
    "* [5. Summary](#chapter5)          "
   ]
  },
  {
   "cell_type": "markdown",
   "metadata": {},
   "source": [
    "#### Package imports"
   ]
  },
  {
   "cell_type": "code",
   "execution_count": 1,
   "metadata": {},
   "outputs": [],
   "source": [
    "import warnings\n",
    "\n",
    "import numpy as np\n",
    "import pandas as pd\n",
    "\n",
    "# hide warnings\n",
    "warnings.filterwarnings(\"ignore\")"
   ]
  },
  {
   "cell_type": "markdown",
   "metadata": {},
   "source": [
    "## 1. Basic forecasting workflows <a class=\"anchor\" id=\"chapter1\"></a>"
   ]
  },
  {
   "cell_type": "markdown",
   "metadata": {},
   "source": [
    "This section explains the basic forecasting workflows, and key interface points for it.\n",
    "\n",
    "We cover the following four workflows:\n",
    "\n",
    "* Basic deployment workflow: batch fitting and forecasting\n",
    "* Basic evaluation workflow: evaluating a batch of forecasts against ground truth observations\n",
    "* Advanced deployment workflow: fitting and rolling updates/forecasts\n",
    "* Advanced evaluation workflow: using rolling forecast splits and computing split-wise and aggregate errors, including common back-testing schemes"
   ]
  },
  {
   "cell_type": "markdown",
   "metadata": {},
   "source": [
    "### 1.1 Data container format<a class=\"anchor\" id=\"section_1_1\"></a>\n",
    "\n",
    "All workflows make common assumptions on the input data format.\n",
    "\n",
    "`sktime` uses `pandas` for representing time series:\n",
    "\n",
    "* `pd.DataFrame` for time series and sequences, primarily. Rows represent time indices, columns represent variables.\n",
    "* `pd.Series` can also be used for univariate time series and sequences\n",
    "* `numpy` arrays (1D and 2D) can also be passed, but `pandas` use is encouraged.\n",
    "\n",
    "The `Series.index` and `DataFrame.index` are used for representing the time series or sequence index.\n",
    "`sktime` supports pandas integer, period and timestamp indices for simple time series.\n",
    "\n",
    "`sktime` supports further, additional container formats for panel and hierarchical time series, these are discussed in Section 1.6.\n",
    "\n",
    "**Example:** as the running example in this tutorial, we use a textbook data set, the Box-Jenkins airline data set, which consists of the number of monthly totals of international airline passengers, from 1949 - 1960. Values are in thousands. See \"Makridakis, Wheelwright and Hyndman (1998) Forecasting: methods and applications\", exercises sections 2 and 3."
   ]
  },
  {
   "cell_type": "code",
   "execution_count": 2,
   "metadata": {},
   "outputs": [],
   "source": [
    "from sktime.datasets import load_airline\n",
    "from sktime.utils.plotting import plot_series"
   ]
  },
  {
   "cell_type": "code",
   "execution_count": 3,
   "metadata": {},
   "outputs": [
    {
     "data": {
      "text/plain": [
       "(<Figure size 1152x288 with 1 Axes>,\n",
       " <AxesSubplot:ylabel='Number of airline passengers'>)"
      ]
     },
     "execution_count": 3,
     "metadata": {},
     "output_type": "execute_result"
    },
    {
     "data": {
      "image/png": "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",
      "text/plain": [
       "<Figure size 1152x288 with 1 Axes>"
      ]
     },
     "metadata": {
      "needs_background": "light"
     },
     "output_type": "display_data"
    }
   ],
   "source": [
    "y = load_airline()\n",
    "\n",
    "# plotting for visualization\n",
    "plot_series(y)"
   ]
  },
  {
   "cell_type": "code",
   "execution_count": 4,
   "metadata": {},
   "outputs": [
    {
     "data": {
      "text/plain": [
       "PeriodIndex(['1949-01', '1949-02', '1949-03', '1949-04', '1949-05', '1949-06',\n",
       "             '1949-07', '1949-08', '1949-09', '1949-10',\n",
       "             ...\n",
       "             '1960-03', '1960-04', '1960-05', '1960-06', '1960-07', '1960-08',\n",
       "             '1960-09', '1960-10', '1960-11', '1960-12'],\n",
       "            dtype='period[M]', length=144)"
      ]
     },
     "execution_count": 4,
     "metadata": {},
     "output_type": "execute_result"
    }
   ],
   "source": [
    "y.index"
   ]
  },
  {
   "cell_type": "markdown",
   "metadata": {},
   "source": [
    "Generally, users are expected to use the in-built loading functionality of `pandas` and `pandas`-compatible packages to load data sets for forecasting, such as `read_csv` or the `Series` or `DataFrame` constructors if data is available in another in-memory format, e.g., `numpy.array`.\n",
    "\n",
    "`sktime` forecasters may accept input in `pandas`-adjacent formats, but will produce outputs in, and attempt to coerce inputs to, `pandas` formats.\n",
    "\n",
    "NOTE: if your favourite format is not properly converted or coerced, kindly consider to contribute that functionality to `sktime`."
   ]
  },
  {
   "cell_type": "markdown",
   "metadata": {},
   "source": [
    "### 1.2 Basic deployment workflow - batch fitting and forecasting<a class=\"anchor\" id=\"section_1_2\"></a>"
   ]
  },
  {
   "cell_type": "markdown",
   "metadata": {},
   "source": [
    "The simplest use case workflow is batch fitting and forecasting, i.e., fitting a forecasting model to one batch of past data, then asking for forecasts at time point in the future.\n",
    "\n",
    "The steps in this workflow are as follows:\n",
    "\n",
    "1. Preparation of the data\n",
    "2. Specification of the time points for which forecasts are requested. This uses a `numpy.array` or the `ForecastingHorizon` object.\n",
    "3. Specification and instantiation of the forecaster. This follows a `scikit-learn`-like syntax; forecaster objects follow the familiar `scikit-learn` `BaseEstimator` interface.\n",
    "4. Fitting the forecaster to the data, using the forecaster's `fit` method\n",
    "5. Making a forecast, using the forecaster's `predict` method\n",
    "\n",
    "The below first outlines the vanilla variant of the basic deployment workflow, step-by-step.\n",
    "\n",
    "At the end, one-cell workflows are provided, with common deviations from the pattern (Sections 1.2.1 and following)."
   ]
  },
  {
   "cell_type": "markdown",
   "metadata": {},
   "source": [
    "#### Step 1 - Preparation of the data\n",
    "\n",
    "As discussed in Section 1.1, the data is assumed to be in `pd.Series` or `pd.DataFrame` format."
   ]
  },
  {
   "cell_type": "code",
   "execution_count": 5,
   "metadata": {},
   "outputs": [],
   "source": [
    "from sktime.datasets import load_airline\n",
    "from sktime.utils.plotting import plot_series"
   ]
  },
  {
   "cell_type": "code",
   "execution_count": 6,
   "metadata": {},
   "outputs": [
    {
     "data": {
      "text/plain": [
       "(<Figure size 1152x288 with 1 Axes>,\n",
       " <AxesSubplot:ylabel='Number of airline passengers'>)"
      ]
     },
     "execution_count": 6,
     "metadata": {},
     "output_type": "execute_result"
    },
    {
     "data": {
      "image/png": "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",
      "text/plain": [
       "<Figure size 1152x288 with 1 Axes>"
      ]
     },
     "metadata": {
      "needs_background": "light"
     },
     "output_type": "display_data"
    }
   ],
   "source": [
    "# in the example, we use the airline data set.\n",
    "y = load_airline()\n",
    "plot_series(y)"
   ]
  },
  {
   "cell_type": "markdown",
   "metadata": {},
   "source": [
    "#### Step 2 - Specifying the forecasting horizon"
   ]
  },
  {
   "cell_type": "markdown",
   "metadata": {},
   "source": [
    "Now we need to specify the forecasting horizon and pass that to our forecasting algorithm.\n",
    "\n",
    "There are two main ways:\n",
    "\n",
    "* Using a `numpy.array` of integers. This assumes either integer index or periodic index (`PeriodIndex`) in the time series; the integer indicates the number of time points or periods ahead we want to make a forecast for. E.g., `1` means forecast the next period, `2` the second next period, and so on.\n",
    "* Using a `ForecastingHorizon` object. This can be used to define forecast horizons, using any supported index type as an argument. No periodic index is assumed.\n",
    "\n",
    "Forecasting horizons can be absolute, i.e., referencing specific time points in the future, or relative, i.e., referencing time differences to the present. As a default, the present is that latest time point seen in any `y` passed to the forecaster.\n",
    "\n",
    "`numpy.array` based forecasting horizons are always relative; `ForecastingHorizon` objects can be both relative and absolute. In particular, absolute forecasting horizons can only be specified using `ForecastingHorizon`."
   ]
  },
  {
   "cell_type": "markdown",
   "metadata": {},
   "source": [
    "##### Using a `numpy` forecasting horizon"
   ]
  },
  {
   "cell_type": "code",
   "execution_count": 7,
   "metadata": {},
   "outputs": [
    {
     "data": {
      "text/plain": [
       "array([ 1,  2,  3,  4,  5,  6,  7,  8,  9, 10, 11, 12, 13, 14, 15, 16, 17,\n",
       "       18, 19, 20, 21, 22, 23, 24, 25, 26, 27, 28, 29, 30, 31, 32, 33, 34,\n",
       "       35, 36])"
      ]
     },
     "execution_count": 7,
     "metadata": {},
     "output_type": "execute_result"
    }
   ],
   "source": [
    "fh = np.arange(1, 37)\n",
    "fh"
   ]
  },
  {
   "cell_type": "markdown",
   "metadata": {},
   "source": [
    "This will ask for monthly predictions for the next three years, since the original series period is 1 month.\n",
    "In another example, to predict only the second and fifth month ahead, one could write:\n",
    "\n",
    "```python\n",
    "import numpy as np\n",
    "fh = np.array([2, 5])  # 2nd and 5th step ahead\n",
    "```"
   ]
  },
  {
   "cell_type": "markdown",
   "metadata": {},
   "source": [
    "##### Using a `ForecastingHorizon` based forecasting horizon\n",
    "\n",
    "The `ForecastingHorizon` object takes absolute indices as input, but considers the input absolute or relative depending on the `is_relative` flag.\n",
    "\n",
    "`ForecastingHorizon` will automatically assume a relative horizon if temporal difference types from `pandas` are passed; if value types from `pandas` are passed, it will assume an absolute horizon.\n",
    "\n",
    "To define an absolute `ForecastingHorizon` in our example:"
   ]
  },
  {
   "cell_type": "code",
   "execution_count": 8,
   "metadata": {},
   "outputs": [],
   "source": [
    "from sktime.forecasting.base import ForecastingHorizon"
   ]
  },
  {
   "cell_type": "code",
   "execution_count": 9,
   "metadata": {},
   "outputs": [
    {
     "data": {
      "text/plain": [
       "ForecastingHorizon(['1961-01', '1961-02', '1961-03', '1961-04', '1961-05', '1961-06',\n",
       "             '1961-07', '1961-08', '1961-09', '1961-10', '1961-11', '1961-12',\n",
       "             '1962-01', '1962-02', '1962-03', '1962-04', '1962-05', '1962-06',\n",
       "             '1962-07', '1962-08', '1962-09', '1962-10', '1962-11', '1962-12',\n",
       "             '1963-01', '1963-02', '1963-03', '1963-04', '1963-05', '1963-06',\n",
       "             '1963-07', '1963-08', '1963-09', '1963-10', '1963-11', '1963-12'],\n",
       "            dtype='period[M]', is_relative=False)"
      ]
     },
     "execution_count": 9,
     "metadata": {},
     "output_type": "execute_result"
    }
   ],
   "source": [
    "fh = ForecastingHorizon(\n",
    "    pd.PeriodIndex(pd.date_range(\"1961-01\", periods=36, freq=\"M\")), is_relative=False\n",
    ")\n",
    "fh"
   ]
  },
  {
   "cell_type": "markdown",
   "metadata": {},
   "source": [
    "`ForecastingHorizon`-s can be converted from relative to absolute and back via the `to_relative` and `to_absolute` methods. Both of these conversions require a compatible `cutoff` to be passed:"
   ]
  },
  {
   "cell_type": "code",
   "execution_count": 10,
   "metadata": {},
   "outputs": [],
   "source": [
    "cutoff = pd.Period(\"1960-12\", freq=\"M\")"
   ]
  },
  {
   "cell_type": "code",
   "execution_count": 11,
   "metadata": {},
   "outputs": [
    {
     "data": {
      "text/plain": [
       "ForecastingHorizon([ 1,  2,  3,  4,  5,  6,  7,  8,  9, 10, 11, 12, 13, 14, 15, 16, 17,\n",
       "            18, 19, 20, 21, 22, 23, 24, 25, 26, 27, 28, 29, 30, 31, 32, 33, 34,\n",
       "            35, 36],\n",
       "           dtype='int64', is_relative=True)"
      ]
     },
     "execution_count": 11,
     "metadata": {},
     "output_type": "execute_result"
    }
   ],
   "source": [
    "fh.to_relative(cutoff)"
   ]
  },
  {
   "cell_type": "code",
   "execution_count": 12,
   "metadata": {},
   "outputs": [
    {
     "data": {
      "text/plain": [
       "ForecastingHorizon(['1961-01', '1961-02', '1961-03', '1961-04', '1961-05', '1961-06',\n",
       "             '1961-07', '1961-08', '1961-09', '1961-10', '1961-11', '1961-12',\n",
       "             '1962-01', '1962-02', '1962-03', '1962-04', '1962-05', '1962-06',\n",
       "             '1962-07', '1962-08', '1962-09', '1962-10', '1962-11', '1962-12',\n",
       "             '1963-01', '1963-02', '1963-03', '1963-04', '1963-05', '1963-06',\n",
       "             '1963-07', '1963-08', '1963-09', '1963-10', '1963-11', '1963-12'],\n",
       "            dtype='period[M]', is_relative=False)"
      ]
     },
     "execution_count": 12,
     "metadata": {},
     "output_type": "execute_result"
    }
   ],
   "source": [
    "fh.to_absolute(cutoff)"
   ]
  },
  {
   "cell_type": "markdown",
   "metadata": {},
   "source": [
    "#### Step 3 - Specifying the forecasting algorithm\n",
    "\n",
    "To make forecasts, a forecasting algorithm needs to be specified. This is done using a `scikit-learn`-like interface. Most importantly, all `sktime` forecasters follow the same interface, so the preceding and remaining steps are the same, no matter which forecaster is being chosen.\n",
    "\n",
    "For this example, we choose the naive forecasting method of predicting the last seen value. More complex specifications are possible, using pipeline and reduction construction syntax; this will be covered later in Section 2."
   ]
  },
  {
   "cell_type": "code",
   "execution_count": 13,
   "metadata": {},
   "outputs": [],
   "source": [
    "from sktime.forecasting.naive import NaiveForecaster"
   ]
  },
  {
   "cell_type": "code",
   "execution_count": 14,
   "metadata": {},
   "outputs": [],
   "source": [
    "forecaster = NaiveForecaster(strategy=\"last\")"
   ]
  },
  {
   "cell_type": "markdown",
   "metadata": {},
   "source": [
    "#### Step 4 - Fitting the forecaster to the seen data\n",
    "\n",
    "Now the forecaster needs to be fitted to the seen data:"
   ]
  },
  {
   "cell_type": "code",
   "execution_count": 15,
   "metadata": {},
   "outputs": [
    {
     "data": {
      "text/plain": [
       "NaiveForecaster()"
      ]
     },
     "execution_count": 15,
     "metadata": {},
     "output_type": "execute_result"
    }
   ],
   "source": [
    "forecaster.fit(y)"
   ]
  },
  {
   "cell_type": "markdown",
   "metadata": {},
   "source": [
    "#### Step 5 - Requesting forecasts\n",
    "\n",
    "Finally, we request forecasts for the specified forecasting horizon. This needs to be done after fitting the forecaster:"
   ]
  },
  {
   "cell_type": "code",
   "execution_count": 16,
   "metadata": {},
   "outputs": [],
   "source": [
    "y_pred = forecaster.predict(fh)"
   ]
  },
  {
   "cell_type": "code",
   "execution_count": 17,
   "metadata": {},
   "outputs": [
    {
     "data": {
      "text/plain": [
       "(<Figure size 1152x288 with 1 Axes>,\n",
       " <AxesSubplot:ylabel='Number of airline passengers'>)"
      ]
     },
     "execution_count": 17,
     "metadata": {},
     "output_type": "execute_result"
    },
    {
     "data": {
      "image/png": "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",
      "text/plain": [
       "<Figure size 1152x288 with 1 Axes>"
      ]
     },
     "metadata": {
      "needs_background": "light"
     },
     "output_type": "display_data"
    }
   ],
   "source": [
    "# plotting predictions and past data\n",
    "plot_series(y, y_pred, labels=[\"y\", \"y_pred\"])"
   ]
  },
  {
   "cell_type": "markdown",
   "metadata": {},
   "source": [
    "#### 1.2.1 The basic deployment workflow in a nutshell<a class=\"anchor\" id=\"section_1_2_1\"></a>\n",
    "\n",
    "For convenience, we present the basic deployment workflow in one cell.\n",
    "This uses the same data, but different forecaster: predicting the latest value observed in the same month."
   ]
  },
  {
   "cell_type": "code",
   "execution_count": 18,
   "metadata": {},
   "outputs": [],
   "source": [
    "from sktime.datasets import load_airline\n",
    "from sktime.forecasting.base import ForecastingHorizon\n",
    "from sktime.forecasting.naive import NaiveForecaster"
   ]
  },
  {
   "cell_type": "code",
   "execution_count": 19,
   "metadata": {},
   "outputs": [],
   "source": [
    "# step 1: data specification\n",
    "y = load_airline()\n",
    "\n",
    "# step 2: specifying forecasting horizon\n",
    "fh = np.arange(1, 37)\n",
    "\n",
    "# step 3: specifying the forecasting algorithm\n",
    "forecaster = NaiveForecaster(strategy=\"last\", sp=12)\n",
    "\n",
    "# step 4: fitting the forecaster\n",
    "forecaster.fit(y)\n",
    "\n",
    "# step 5: querying predictions\n",
    "y_pred = forecaster.predict(fh)"
   ]
  },
  {
   "cell_type": "code",
   "execution_count": 20,
   "metadata": {},
   "outputs": [
    {
     "data": {
      "text/plain": [
       "(<Figure size 1152x288 with 1 Axes>,\n",
       " <AxesSubplot:ylabel='Number of airline passengers'>)"
      ]
     },
     "execution_count": 20,
     "metadata": {},
     "output_type": "execute_result"
    },
    {
     "data": {
      "image/png": "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",
      "text/plain": [
       "<Figure size 1152x288 with 1 Axes>"
      ]
     },
     "metadata": {
      "needs_background": "light"
     },
     "output_type": "display_data"
    }
   ],
   "source": [
    "# optional: plotting predictions and past data\n",
    "plot_series(y, y_pred, labels=[\"y\", \"y_pred\"])"
   ]
  },
  {
   "cell_type": "markdown",
   "metadata": {},
   "source": [
    "#### 1.2.2 Forecasters that require the horizon already in `fit` <a class=\"anchor\" id=\"section_1_2_2\"></a>\n",
    "\n",
    "Some forecasters need the forecasting horizon provided already in `fit`. Such forecasters will produce informative error messages when it is not passed in `fit`. All forecaster will remember the horizon when already passed in `fit` for prediction. The modified workflow to allow for such forecasters in addition is as follows:"
   ]
  },
  {
   "cell_type": "code",
   "execution_count": 21,
   "metadata": {},
   "outputs": [],
   "source": [
    "# step 1: data specification\n",
    "y = load_airline()\n",
    "\n",
    "# step 2: specifying forecasting horizon\n",
    "fh = np.arange(1, 37)\n",
    "\n",
    "# step 3: specifying the forecasting algorithm\n",
    "forecaster = NaiveForecaster(strategy=\"last\", sp=12)\n",
    "\n",
    "# step 4: fitting the forecaster\n",
    "forecaster.fit(y, fh=fh)\n",
    "\n",
    "# step 5: querying predictions\n",
    "y_pred = forecaster.predict()"
   ]
  },
  {
   "cell_type": "markdown",
   "metadata": {
    "execution": {
     "iopub.execute_input": "2021-04-10T16:07:06.475031Z",
     "iopub.status.busy": "2021-04-10T16:07:06.473831Z",
     "iopub.status.idle": "2021-04-10T16:07:06.613175Z",
     "shell.execute_reply": "2021-04-10T16:07:06.613700Z"
    }
   },
   "source": [
    "#### 1.2.3 Forecasters that can make use of exogeneous data<a class=\"anchor\" id=\"section_1_2_3\"></a>\n",
    "\n",
    "Many forecasters can make use of exogeneous time series, i.e., other time series that are not forecast, but are useful for forecasting `y`. Exogeneous time series are always passed as an `X` argument, in `fit`, `predict`, and other methods (see below). Exogeneous time series should always be passed as `pandas.DataFrames`. Most forecasters that can deal with exogeneous time series will assume that the time indices of `X` passed to `fit` are a super-set of the time indices in `y` passed to `fit`; and that the time indices of `X` passed to `predict` are a super-set of time indices in `fh`, although this is not a general interface restriction. Forecasters that do not make use of exogeneous time series still accept the argument (and do not use it internally).\n",
    "\n",
    "The general workflow for passing exogeneous data is as follows:"
   ]
  },
  {
   "cell_type": "code",
   "execution_count": 22,
   "metadata": {},
   "outputs": [],
   "source": [
    "# step 1: data specification\n",
    "y = load_airline()\n",
    "# we create some dummy exogeneous data\n",
    "X = pd.DataFrame(index=y.index)\n",
    "\n",
    "# step 2: specifying forecasting horizon\n",
    "fh = np.arange(1, 37)\n",
    "\n",
    "# step 3: specifying the forecasting algorithm\n",
    "forecaster = NaiveForecaster(strategy=\"last\", sp=12)\n",
    "\n",
    "# step 4: fitting the forecaster\n",
    "forecaster.fit(y, X=X, fh=fh)\n",
    "\n",
    "# step 5: querying predictions\n",
    "y_pred = forecaster.predict(X=X)"
   ]
  },
  {
   "cell_type": "markdown",
   "metadata": {},
   "source": [
    "NOTE: as in workflows 1.2.1 and 1.2.2, some forecasters that use exogeneous variables may also require the forecasting horizon only in `predict`. Such forecasters may also be called with steps 4 and 5 being\n",
    "```python\n",
    "forecaster.fit(y, X=X)\n",
    "y_pred = forecaster.predict(fh=fh, X=X)\n",
    "```"
   ]
  },
  {
   "cell_type": "markdown",
   "metadata": {},
   "source": [
    "#### 1.2.4. Multivariate forecasting <a class=\"anchor\" id=\"section_1_2_4\"></a>"
   ]
  },
  {
   "cell_type": "markdown",
   "metadata": {},
   "source": [
    "All forecasters in `sktime` support multivariate forecasts - some forecasters are \"genuine\" multivariate, all others \"apply by column\".\n",
    "\n",
    "Below is an example of the general multivariate forecasting workflow, using the `VAR` (vector auto-regression) forecaster on the Longley dataset from `sktime.datasets`. The workflow is the same as in the univariate forecasters, but the input has more than one variables (columns)."
   ]
  },
  {
   "cell_type": "code",
   "execution_count": 23,
   "metadata": {},
   "outputs": [],
   "source": [
    "from sktime.datasets import load_longley\n",
    "from sktime.forecasting.var import VAR\n",
    "\n",
    "_, y = load_longley()\n",
    "\n",
    "y = y.drop(columns=[\"UNEMP\", \"ARMED\", \"POP\"])\n",
    "\n",
    "forecaster = VAR()\n",
    "forecaster.fit(y, fh=[1, 2, 3])\n",
    "\n",
    "y_pred = forecaster.predict()"
   ]
  },
  {
   "cell_type": "markdown",
   "metadata": {},
   "source": [
    "The input to the multivariate forecaster `y` is a `pandas.DataFrame` where each column is a variable."
   ]
  },
  {
   "cell_type": "code",
   "execution_count": 24,
   "metadata": {},
   "outputs": [
    {
     "data": {
      "text/html": [
       "<div>\n",
       "<style scoped>\n",
       "    .dataframe tbody tr th:only-of-type {\n",
       "        vertical-align: middle;\n",
       "    }\n",
       "\n",
       "    .dataframe tbody tr th {\n",
       "        vertical-align: top;\n",
       "    }\n",
       "\n",
       "    .dataframe thead th {\n",
       "        text-align: right;\n",
       "    }\n",
       "</style>\n",
       "<table border=\"1\" class=\"dataframe\">\n",
       "  <thead>\n",
       "    <tr style=\"text-align: right;\">\n",
       "      <th></th>\n",
       "      <th>GNPDEFL</th>\n",
       "      <th>GNP</th>\n",
       "    </tr>\n",
       "    <tr>\n",
       "      <th>Period</th>\n",
       "      <th></th>\n",
       "      <th></th>\n",
       "    </tr>\n",
       "  </thead>\n",
       "  <tbody>\n",
       "    <tr>\n",
       "      <th>1947</th>\n",
       "      <td>83.0</td>\n",
       "      <td>234289.0</td>\n",
       "    </tr>\n",
       "    <tr>\n",
       "      <th>1948</th>\n",
       "      <td>88.5</td>\n",
       "      <td>259426.0</td>\n",
       "    </tr>\n",
       "    <tr>\n",
       "      <th>1949</th>\n",
       "      <td>88.2</td>\n",
       "      <td>258054.0</td>\n",
       "    </tr>\n",
       "    <tr>\n",
       "      <th>1950</th>\n",
       "      <td>89.5</td>\n",
       "      <td>284599.0</td>\n",
       "    </tr>\n",
       "    <tr>\n",
       "      <th>1951</th>\n",
       "      <td>96.2</td>\n",
       "      <td>328975.0</td>\n",
       "    </tr>\n",
       "    <tr>\n",
       "      <th>1952</th>\n",
       "      <td>98.1</td>\n",
       "      <td>346999.0</td>\n",
       "    </tr>\n",
       "    <tr>\n",
       "      <th>1953</th>\n",
       "      <td>99.0</td>\n",
       "      <td>365385.0</td>\n",
       "    </tr>\n",
       "    <tr>\n",
       "      <th>1954</th>\n",
       "      <td>100.0</td>\n",
       "      <td>363112.0</td>\n",
       "    </tr>\n",
       "    <tr>\n",
       "      <th>1955</th>\n",
       "      <td>101.2</td>\n",
       "      <td>397469.0</td>\n",
       "    </tr>\n",
       "    <tr>\n",
       "      <th>1956</th>\n",
       "      <td>104.6</td>\n",
       "      <td>419180.0</td>\n",
       "    </tr>\n",
       "    <tr>\n",
       "      <th>1957</th>\n",
       "      <td>108.4</td>\n",
       "      <td>442769.0</td>\n",
       "    </tr>\n",
       "    <tr>\n",
       "      <th>1958</th>\n",
       "      <td>110.8</td>\n",
       "      <td>444546.0</td>\n",
       "    </tr>\n",
       "    <tr>\n",
       "      <th>1959</th>\n",
       "      <td>112.6</td>\n",
       "      <td>482704.0</td>\n",
       "    </tr>\n",
       "    <tr>\n",
       "      <th>1960</th>\n",
       "      <td>114.2</td>\n",
       "      <td>502601.0</td>\n",
       "    </tr>\n",
       "    <tr>\n",
       "      <th>1961</th>\n",
       "      <td>115.7</td>\n",
       "      <td>518173.0</td>\n",
       "    </tr>\n",
       "    <tr>\n",
       "      <th>1962</th>\n",
       "      <td>116.9</td>\n",
       "      <td>554894.0</td>\n",
       "    </tr>\n",
       "  </tbody>\n",
       "</table>\n",
       "</div>"
      ],
      "text/plain": [
       "        GNPDEFL       GNP\n",
       "Period                   \n",
       "1947       83.0  234289.0\n",
       "1948       88.5  259426.0\n",
       "1949       88.2  258054.0\n",
       "1950       89.5  284599.0\n",
       "1951       96.2  328975.0\n",
       "1952       98.1  346999.0\n",
       "1953       99.0  365385.0\n",
       "1954      100.0  363112.0\n",
       "1955      101.2  397469.0\n",
       "1956      104.6  419180.0\n",
       "1957      108.4  442769.0\n",
       "1958      110.8  444546.0\n",
       "1959      112.6  482704.0\n",
       "1960      114.2  502601.0\n",
       "1961      115.7  518173.0\n",
       "1962      116.9  554894.0"
      ]
     },
     "execution_count": 24,
     "metadata": {},
     "output_type": "execute_result"
    }
   ],
   "source": [
    "y"
   ]
  },
  {
   "cell_type": "markdown",
   "metadata": {},
   "source": [
    "The result of the multivariate forecaster `y_pred` is a `pandas.DataFrame` where columns are the predicted values for each variable. The variables in `y_pred` are the same as in `y`, the input to the multivariate forecaster."
   ]
  },
  {
   "cell_type": "code",
   "execution_count": 25,
   "metadata": {},
   "outputs": [
    {
     "data": {
      "text/html": [
       "<div>\n",
       "<style scoped>\n",
       "    .dataframe tbody tr th:only-of-type {\n",
       "        vertical-align: middle;\n",
       "    }\n",
       "\n",
       "    .dataframe tbody tr th {\n",
       "        vertical-align: top;\n",
       "    }\n",
       "\n",
       "    .dataframe thead th {\n",
       "        text-align: right;\n",
       "    }\n",
       "</style>\n",
       "<table border=\"1\" class=\"dataframe\">\n",
       "  <thead>\n",
       "    <tr style=\"text-align: right;\">\n",
       "      <th></th>\n",
       "      <th>GNPDEFL</th>\n",
       "      <th>GNP</th>\n",
       "    </tr>\n",
       "  </thead>\n",
       "  <tbody>\n",
       "    <tr>\n",
       "      <th>1963</th>\n",
       "      <td>121.688295</td>\n",
       "      <td>578514.398653</td>\n",
       "    </tr>\n",
       "    <tr>\n",
       "      <th>1964</th>\n",
       "      <td>124.353664</td>\n",
       "      <td>601873.015890</td>\n",
       "    </tr>\n",
       "    <tr>\n",
       "      <th>1965</th>\n",
       "      <td>126.847886</td>\n",
       "      <td>625411.588754</td>\n",
       "    </tr>\n",
       "  </tbody>\n",
       "</table>\n",
       "</div>"
      ],
      "text/plain": [
       "         GNPDEFL            GNP\n",
       "1963  121.688295  578514.398653\n",
       "1964  124.353664  601873.015890\n",
       "1965  126.847886  625411.588754"
      ]
     },
     "execution_count": 25,
     "metadata": {},
     "output_type": "execute_result"
    }
   ],
   "source": [
    "y_pred"
   ]
  },
  {
   "cell_type": "markdown",
   "metadata": {},
   "source": [
    "As said above, all forecasters accept multivariate input and will produce multivariate forecasts.\n",
    "There are two categories:\n",
    "\n",
    "* forecasters that are genuinely multivariate, such as `VAR`. Forecasts for one endogeneous (`y`) variable will depend on values of other variables.\n",
    "* forecasters that are univariate, such as `ARIMA`. Forecasts will be made by endogeneous (`y`) variable, and not be affected by other variables.\n",
    "\n",
    "To display complete list of multivariate forecasters, search for forecasters with `'multivariate'` or `'both'` tag value for the tag `'scitype:y'`, as follows:"
   ]
  },
  {
   "cell_type": "code",
   "execution_count": 26,
   "metadata": {},
   "outputs": [],
   "source": [
    "from sktime.registry import all_estimators\n",
    "\n",
    "for forecaster in all_estimators(filter_tags={\"scitype:y\": [\"multivariate\", \"both\"]}):\n",
    "    print(forecaster[0])"
   ]
  },
  {
   "cell_type": "markdown",
   "metadata": {},
   "source": [
    "Univariate forecasters have tag value `'univariate'`, and will fit one model per column.\n",
    "To access the column-wise models, access the `forecasters_` parameter, which stores the fitted forecasters in a `pandas.DataFrame`, fitted forecasters being in the column with the variable for which the forecast is being made:"
   ]
  },
  {
   "cell_type": "code",
   "execution_count": 27,
   "metadata": {},
   "outputs": [
    {
     "data": {
      "text/html": [
       "<div>\n",
       "<style scoped>\n",
       "    .dataframe tbody tr th:only-of-type {\n",
       "        vertical-align: middle;\n",
       "    }\n",
       "\n",
       "    .dataframe tbody tr th {\n",
       "        vertical-align: top;\n",
       "    }\n",
       "\n",
       "    .dataframe thead th {\n",
       "        text-align: right;\n",
       "    }\n",
       "</style>\n",
       "<table border=\"1\" class=\"dataframe\">\n",
       "  <thead>\n",
       "    <tr style=\"text-align: right;\">\n",
       "      <th></th>\n",
       "      <th>GNPDEFL</th>\n",
       "      <th>GNP</th>\n",
       "    </tr>\n",
       "  </thead>\n",
       "  <tbody>\n",
       "    <tr>\n",
       "      <th>forecasters</th>\n",
       "      <td>ARIMA()</td>\n",
       "      <td>ARIMA()</td>\n",
       "    </tr>\n",
       "  </tbody>\n",
       "</table>\n",
       "</div>"
      ],
      "text/plain": [
       "             GNPDEFL      GNP\n",
       "forecasters  ARIMA()  ARIMA()"
      ]
     },
     "execution_count": 27,
     "metadata": {},
     "output_type": "execute_result"
    }
   ],
   "source": [
    "from sktime.datasets import load_longley\n",
    "from sktime.forecasting.arima import ARIMA\n",
    "\n",
    "_, y = load_longley()\n",
    "\n",
    "y = y.drop(columns=[\"UNEMP\", \"ARMED\", \"POP\"])\n",
    "\n",
    "forecaster = ARIMA()\n",
    "forecaster.fit(y, fh=[1, 2, 3])\n",
    "\n",
    "forecaster.forecasters_"
   ]
  },
  {
   "cell_type": "markdown",
   "metadata": {},
   "source": [
    "#### 1.2.5 Probabilistic forecasting: prediction intervals, quantile, variance, and distributional forecasts <a class=\"anchor\" id=\"section_1_2_5\"></a>\n",
    "\n",
    "`sktime` provides a unified interface to make probabilistic forecasts.\n",
    "The following methods are possibly available for probabilistic forecasts:\n",
    "\n",
    "* `predict_interval` produces interval forecasts. Additionally to any `predict` arguments, an argument `coverage` (nominal interval coverage) must be provided.\n",
    "* `predict_quantiles` produces quantile forecasts. Additionally to any `predict` arguments, an argument `alpha` (quantile values) must be provided.\n",
    "* `predict_var` produces variance forecasts. This has same arguments as `predict`.\n",
    "* `predict_proba` produces full distributional forecasts. This has same arguments as `predict`.\n",
    "\n",
    "Not all forecasters are capable of returning probabilistic forecast, but if a forecasters provides one kind of probabilistic forecast, it is also capable of returning the others. The list of forecasters with such capability can be queried by `registry.all_estimators`, searching for those where the `capability:pred_int` tag has value`True`.\n",
    "\n",
    "The basic workflow for probabilistic forecasts is similar to the basic forecasting workflow, with the difference that instead of `predict`, one of the probabilistic forecasting methods is used:\n"
   ]
  },
  {
   "cell_type": "code",
   "execution_count": 28,
   "metadata": {},
   "outputs": [
    {
     "data": {
      "text/plain": [
       "ThetaForecaster(sp=12)"
      ]
     },
     "execution_count": 28,
     "metadata": {},
     "output_type": "execute_result"
    }
   ],
   "source": [
    "import numpy as np\n",
    "\n",
    "from sktime.datasets import load_airline\n",
    "from sktime.forecasting.theta import ThetaForecaster\n",
    "\n",
    "# until fit, identical with the simple workflow\n",
    "y = load_airline()\n",
    "\n",
    "fh = np.arange(1, 13)\n",
    "\n",
    "forecaster = ThetaForecaster(sp=12)\n",
    "forecaster.fit(y, fh=fh)"
   ]
  },
  {
   "cell_type": "markdown",
   "metadata": {},
   "source": [
    "Now we present the different probabilistic forecasting methods."
   ]
  },
  {
   "cell_type": "markdown",
   "metadata": {},
   "source": [
    "##### `predict_interval` - interval predictions"
   ]
  },
  {
   "cell_type": "markdown",
   "metadata": {},
   "source": [
    "`predict_interval` takes an argument `coverage`, which is a float (or list of floats), the nominal coverage of the prediction interval(s) queried. `predict_interval` produces symmetric prediction intervals, for example, a coverage of `0.9` returns a \"lower\" forecast at quantile `0.5 - coverage/2 = 0.05`, and an \"upper\" forecast at quantile `0.5 + coverage/2 = 0.95`."
   ]
  },
  {
   "cell_type": "code",
   "execution_count": 29,
   "metadata": {},
   "outputs": [
    {
     "data": {
      "text/html": [
       "<div>\n",
       "<style scoped>\n",
       "    .dataframe tbody tr th:only-of-type {\n",
       "        vertical-align: middle;\n",
       "    }\n",
       "\n",
       "    .dataframe tbody tr th {\n",
       "        vertical-align: top;\n",
       "    }\n",
       "\n",
       "    .dataframe thead tr th {\n",
       "        text-align: left;\n",
       "    }\n",
       "</style>\n",
       "<table border=\"1\" class=\"dataframe\">\n",
       "  <thead>\n",
       "    <tr>\n",
       "      <th></th>\n",
       "      <th colspan=\"2\" halign=\"left\">Coverage</th>\n",
       "    </tr>\n",
       "    <tr>\n",
       "      <th></th>\n",
       "      <th colspan=\"2\" halign=\"left\">0.9</th>\n",
       "    </tr>\n",
       "    <tr>\n",
       "      <th></th>\n",
       "      <th>lower</th>\n",
       "      <th>upper</th>\n",
       "    </tr>\n",
       "  </thead>\n",
       "  <tbody>\n",
       "    <tr>\n",
       "      <th>1961-01</th>\n",
       "      <td>418.280122</td>\n",
       "      <td>464.281951</td>\n",
       "    </tr>\n",
       "    <tr>\n",
       "      <th>1961-02</th>\n",
       "      <td>402.215882</td>\n",
       "      <td>456.888054</td>\n",
       "    </tr>\n",
       "    <tr>\n",
       "      <th>1961-03</th>\n",
       "      <td>459.966115</td>\n",
       "      <td>522.110499</td>\n",
       "    </tr>\n",
       "    <tr>\n",
       "      <th>1961-04</th>\n",
       "      <td>442.589311</td>\n",
       "      <td>511.399213</td>\n",
       "    </tr>\n",
       "    <tr>\n",
       "      <th>1961-05</th>\n",
       "      <td>443.525029</td>\n",
       "      <td>518.409479</td>\n",
       "    </tr>\n",
       "    <tr>\n",
       "      <th>1961-06</th>\n",
       "      <td>506.585817</td>\n",
       "      <td>587.087736</td>\n",
       "    </tr>\n",
       "    <tr>\n",
       "      <th>1961-07</th>\n",
       "      <td>561.496771</td>\n",
       "      <td>647.248955</td>\n",
       "    </tr>\n",
       "    <tr>\n",
       "      <th>1961-08</th>\n",
       "      <td>557.363325</td>\n",
       "      <td>648.062362</td>\n",
       "    </tr>\n",
       "    <tr>\n",
       "      <th>1961-09</th>\n",
       "      <td>477.658059</td>\n",
       "      <td>573.047750</td>\n",
       "    </tr>\n",
       "    <tr>\n",
       "      <th>1961-10</th>\n",
       "      <td>407.915093</td>\n",
       "      <td>507.775353</td>\n",
       "    </tr>\n",
       "    <tr>\n",
       "      <th>1961-11</th>\n",
       "      <td>346.942927</td>\n",
       "      <td>451.082014</td>\n",
       "    </tr>\n",
       "    <tr>\n",
       "      <th>1961-12</th>\n",
       "      <td>394.708224</td>\n",
       "      <td>502.957139</td>\n",
       "    </tr>\n",
       "  </tbody>\n",
       "</table>\n",
       "</div>"
      ],
      "text/plain": [
       "           Coverage            \n",
       "                0.9            \n",
       "              lower       upper\n",
       "1961-01  418.280122  464.281951\n",
       "1961-02  402.215882  456.888054\n",
       "1961-03  459.966115  522.110499\n",
       "1961-04  442.589311  511.399213\n",
       "1961-05  443.525029  518.409479\n",
       "1961-06  506.585817  587.087736\n",
       "1961-07  561.496771  647.248955\n",
       "1961-08  557.363325  648.062362\n",
       "1961-09  477.658059  573.047750\n",
       "1961-10  407.915093  507.775353\n",
       "1961-11  346.942927  451.082014\n",
       "1961-12  394.708224  502.957139"
      ]
     },
     "execution_count": 29,
     "metadata": {},
     "output_type": "execute_result"
    }
   ],
   "source": [
    "coverage = 0.9\n",
    "y_pred_ints = forecaster.predict_interval(coverage=coverage)\n",
    "y_pred_ints"
   ]
  },
  {
   "cell_type": "markdown",
   "metadata": {},
   "source": [
    "The return `y_pred_ints` is a `pandas.DataFrame` with a column multi-index: The first level is variable name from `y` in fit (or `Coverage` if no variable names were present), second level coverage fractions for which intervals were computed, in the same order as in input `coverage`; third level columns `lower` and `upper`. Rows are the indices for which forecasts were made (same as in `y_pred` or `fh`). Entries are lower/upper (as column name) bound of the nominal coverage predictive interval for the index in the same row. "
   ]
  },
  {
   "cell_type": "markdown",
   "metadata": {},
   "source": [
    "Pretty-plotting the predictive interval forecasts:"
   ]
  },
  {
   "cell_type": "code",
   "execution_count": 30,
   "metadata": {},
   "outputs": [
    {
     "data": {
      "image/png": "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",
      "text/plain": [
       "<Figure size 1152x288 with 1 Axes>"
      ]
     },
     "metadata": {
      "needs_background": "light"
     },
     "output_type": "display_data"
    }
   ],
   "source": [
    "from sktime.utils import plotting\n",
    "\n",
    "# also requires predictions\n",
    "y_pred = forecaster.predict()\n",
    "\n",
    "fig, ax = plotting.plot_series(\n",
    "    y, y_pred, labels=[\"y\", \"y_pred\"], pred_interval=y_pred_ints\n",
    ")"
   ]
  },
  {
   "cell_type": "markdown",
   "metadata": {},
   "source": [
    "##### `predict_quantiles` - quantile forecasts"
   ]
  },
  {
   "cell_type": "markdown",
   "metadata": {},
   "source": [
    "sktime offers `predict_quantiles` as a unified interface to return quantile values of predictions. Similar to `predict_interval`.\n",
    "\n",
    "`predict_quantiles` has an argument `alpha`, containing the quantile values being queried. Similar to the case of the `predict_interval`, `alpha` can be a `float`, or a `list of floats`. "
   ]
  },
  {
   "cell_type": "code",
   "execution_count": 31,
   "metadata": {},
   "outputs": [
    {
     "data": {
      "text/html": [
       "<div>\n",
       "<style scoped>\n",
       "    .dataframe tbody tr th:only-of-type {\n",
       "        vertical-align: middle;\n",
       "    }\n",
       "\n",
       "    .dataframe tbody tr th {\n",
       "        vertical-align: top;\n",
       "    }\n",
       "\n",
       "    .dataframe thead tr th {\n",
       "        text-align: left;\n",
       "    }\n",
       "</style>\n",
       "<table border=\"1\" class=\"dataframe\">\n",
       "  <thead>\n",
       "    <tr>\n",
       "      <th></th>\n",
       "      <th colspan=\"2\" halign=\"left\">Quantiles</th>\n",
       "    </tr>\n",
       "    <tr>\n",
       "      <th></th>\n",
       "      <th>0.275</th>\n",
       "      <th>0.975</th>\n",
       "    </tr>\n",
       "  </thead>\n",
       "  <tbody>\n",
       "    <tr>\n",
       "      <th>1961-01</th>\n",
       "      <td>432.922220</td>\n",
       "      <td>468.688317</td>\n",
       "    </tr>\n",
       "    <tr>\n",
       "      <th>1961-02</th>\n",
       "      <td>419.617697</td>\n",
       "      <td>462.124924</td>\n",
       "    </tr>\n",
       "    <tr>\n",
       "      <th>1961-03</th>\n",
       "      <td>479.746288</td>\n",
       "      <td>528.063108</td>\n",
       "    </tr>\n",
       "    <tr>\n",
       "      <th>1961-04</th>\n",
       "      <td>464.491078</td>\n",
       "      <td>517.990290</td>\n",
       "    </tr>\n",
       "    <tr>\n",
       "      <th>1961-05</th>\n",
       "      <td>467.360287</td>\n",
       "      <td>525.582417</td>\n",
       "    </tr>\n",
       "    <tr>\n",
       "      <th>1961-06</th>\n",
       "      <td>532.209080</td>\n",
       "      <td>594.798752</td>\n",
       "    </tr>\n",
       "    <tr>\n",
       "      <th>1961-07</th>\n",
       "      <td>588.791161</td>\n",
       "      <td>655.462877</td>\n",
       "    </tr>\n",
       "    <tr>\n",
       "      <th>1961-08</th>\n",
       "      <td>586.232268</td>\n",
       "      <td>656.750127</td>\n",
       "    </tr>\n",
       "    <tr>\n",
       "      <th>1961-09</th>\n",
       "      <td>508.020008</td>\n",
       "      <td>582.184819</td>\n",
       "    </tr>\n",
       "    <tr>\n",
       "      <th>1961-10</th>\n",
       "      <td>439.699997</td>\n",
       "      <td>517.340642</td>\n",
       "    </tr>\n",
       "    <tr>\n",
       "      <th>1961-11</th>\n",
       "      <td>380.089755</td>\n",
       "      <td>461.057159</td>\n",
       "    </tr>\n",
       "    <tr>\n",
       "      <th>1961-12</th>\n",
       "      <td>429.163185</td>\n",
       "      <td>513.325951</td>\n",
       "    </tr>\n",
       "  </tbody>\n",
       "</table>\n",
       "</div>"
      ],
      "text/plain": [
       "          Quantiles            \n",
       "              0.275       0.975\n",
       "1961-01  432.922220  468.688317\n",
       "1961-02  419.617697  462.124924\n",
       "1961-03  479.746288  528.063108\n",
       "1961-04  464.491078  517.990290\n",
       "1961-05  467.360287  525.582417\n",
       "1961-06  532.209080  594.798752\n",
       "1961-07  588.791161  655.462877\n",
       "1961-08  586.232268  656.750127\n",
       "1961-09  508.020008  582.184819\n",
       "1961-10  439.699997  517.340642\n",
       "1961-11  380.089755  461.057159\n",
       "1961-12  429.163185  513.325951"
      ]
     },
     "execution_count": 31,
     "metadata": {},
     "output_type": "execute_result"
    }
   ],
   "source": [
    "y_pred_quantiles = forecaster.predict_quantiles(alpha=[0.275, 0.975])\n",
    "y_pred_quantiles"
   ]
  },
  {
   "cell_type": "markdown",
   "metadata": {},
   "source": [
    "`y_pred_quantiles`, the output of predict_quantiles, is a `pandas.DataFrame` with a two-level column multiindex. The first level is variable name from `y` in fit (or `Quantiles` if no variable names were present), second level are the quantile values (from `alpha`) for which quantile predictions were queried. Rows are the indices for which forecasts were made (same as in `y_pred` or `fh`). Entries are the quantile predictions for that variable, that quantile value, for the time index in the same row."
   ]
  },
  {
   "cell_type": "markdown",
   "metadata": {},
   "source": [
    "Remark: for clarity: quantile and (symmetric) interval forecasts can be translated into each other as follows.\n",
    "\n",
    "**alpha < 0.5:** The alpha-quantile prediction is equal to the lower bound of a predictive interval with coverage = (0.5 - alpha) * 2\n",
    "\n",
    "**alpha > 0.5:** The alpha-quantile prediction is equal to the upper bound of a predictive interval with coverage = (alpha - 0.5) * 2"
   ]
  },
  {
   "cell_type": "markdown",
   "metadata": {},
   "source": [
    "##### `predict_var` - variance predictions"
   ]
  },
  {
   "cell_type": "markdown",
   "metadata": {},
   "source": [
    "`predict_var` produces variance predictions:"
   ]
  },
  {
   "cell_type": "code",
   "execution_count": 32,
   "metadata": {},
   "outputs": [
    {
     "data": {
      "text/html": [
       "<div>\n",
       "<style scoped>\n",
       "    .dataframe tbody tr th:only-of-type {\n",
       "        vertical-align: middle;\n",
       "    }\n",
       "\n",
       "    .dataframe tbody tr th {\n",
       "        vertical-align: top;\n",
       "    }\n",
       "\n",
       "    .dataframe thead th {\n",
       "        text-align: right;\n",
       "    }\n",
       "</style>\n",
       "<table border=\"1\" class=\"dataframe\">\n",
       "  <thead>\n",
       "    <tr style=\"text-align: right;\">\n",
       "      <th></th>\n",
       "      <th>0</th>\n",
       "    </tr>\n",
       "  </thead>\n",
       "  <tbody>\n",
       "    <tr>\n",
       "      <th>1961-01</th>\n",
       "      <td>195.540039</td>\n",
       "    </tr>\n",
       "    <tr>\n",
       "      <th>1961-02</th>\n",
       "      <td>276.196489</td>\n",
       "    </tr>\n",
       "    <tr>\n",
       "      <th>1961-03</th>\n",
       "      <td>356.852939</td>\n",
       "    </tr>\n",
       "    <tr>\n",
       "      <th>1961-04</th>\n",
       "      <td>437.509389</td>\n",
       "    </tr>\n",
       "    <tr>\n",
       "      <th>1961-05</th>\n",
       "      <td>518.165839</td>\n",
       "    </tr>\n",
       "    <tr>\n",
       "      <th>1961-06</th>\n",
       "      <td>598.822289</td>\n",
       "    </tr>\n",
       "    <tr>\n",
       "      <th>1961-07</th>\n",
       "      <td>679.478739</td>\n",
       "    </tr>\n",
       "    <tr>\n",
       "      <th>1961-08</th>\n",
       "      <td>760.135189</td>\n",
       "    </tr>\n",
       "    <tr>\n",
       "      <th>1961-09</th>\n",
       "      <td>840.791639</td>\n",
       "    </tr>\n",
       "    <tr>\n",
       "      <th>1961-10</th>\n",
       "      <td>921.448089</td>\n",
       "    </tr>\n",
       "    <tr>\n",
       "      <th>1961-11</th>\n",
       "      <td>1002.104539</td>\n",
       "    </tr>\n",
       "    <tr>\n",
       "      <th>1961-12</th>\n",
       "      <td>1082.760989</td>\n",
       "    </tr>\n",
       "  </tbody>\n",
       "</table>\n",
       "</div>"
      ],
      "text/plain": [
       "                   0\n",
       "1961-01   195.540039\n",
       "1961-02   276.196489\n",
       "1961-03   356.852939\n",
       "1961-04   437.509389\n",
       "1961-05   518.165839\n",
       "1961-06   598.822289\n",
       "1961-07   679.478739\n",
       "1961-08   760.135189\n",
       "1961-09   840.791639\n",
       "1961-10   921.448089\n",
       "1961-11  1002.104539\n",
       "1961-12  1082.760989"
      ]
     },
     "execution_count": 32,
     "metadata": {},
     "output_type": "execute_result"
    }
   ],
   "source": [
    "y_pred_var = forecaster.predict_var()\n",
    "y_pred_var"
   ]
  },
  {
   "cell_type": "markdown",
   "metadata": {},
   "source": [
    "The format of the output `y_pred_var` is the same as for `predict`, except that this is always coerced to a `pandas.DataFrame`, and entries are not point predictions but variance predictions."
   ]
  },
  {
   "cell_type": "markdown",
   "metadata": {},
   "source": [
    "##### `predict_proba` - distribution predictions"
   ]
  },
  {
   "cell_type": "markdown",
   "metadata": {},
   "source": [
    "To predict full predictive distributions, `predict_proba` can be used.\n",
    "As this returns `tensorflow` `Distribution` objects, the deep learning dependency set `dl` of `sktime` (which includes `tensorflow` and `tensorflow-probability` dependencies) must be installed."
   ]
  },
  {
   "cell_type": "code",
   "execution_count": 33,
   "metadata": {},
   "outputs": [
    {
     "data": {
      "text/plain": [
       "<tfp.distributions.Normal 'Normal' batch_shape=[12, 1] event_shape=[] dtype=float32>"
      ]
     },
     "execution_count": 33,
     "metadata": {},
     "output_type": "execute_result"
    }
   ],
   "source": [
    "y_pred_proba = forecaster.predict_proba()\n",
    "y_pred_proba"
   ]
  },
  {
   "cell_type": "markdown",
   "metadata": {},
   "source": [
    "Distributions returned by `predict_proba` are by default marginal at time points, not joint over time points.\n",
    "More precisely, the returned `Distribution` object is formatted and to be interpreted as follows:\n",
    "* Batch shape is 1D and same length as fh\n",
    "* Event shape is 1D, with length equal to number of variables being forecast\n",
    "* i-th (batch) distribution is forecast for i-th entry of fh\n",
    "* j-th (event) component is j-th variable, same order as y in `fit`/`update`\n",
    "\n",
    "To return joint forecast distributions, the `marginal` parameter can be set to `False` (currently work in progress). In this case, a `Distribution` with 2D event shape `(len(fh), len(y))` is returned."
   ]
  },
  {
   "cell_type": "markdown",
   "metadata": {},
   "source": [
    "#### 1.2.6 Panel forecasts and hierarchical forecasts <a class=\"anchor\" id=\"section_1_2_6\"></a>\n",
    "\n",
    "`sktime` provides a unified interface to make panel and hierarchical forecasts.\n",
    "\n",
    "All `sktime` forecasters can be applied to panel and hierarchical data, which needs to be presented in specific input formats.\n",
    "Forecasters that are not genuinely panel or hierarchical forecasters will be applied by instance.\n",
    "\n",
    "The recommended (not the only) format to pass panel and hierarchical data is a `pandas.DataFrame` with `MultiIndex` row. In this `MultiIndex`, the last level must be in an `sktime` compatible time index format, the remaining levels are panel or hierarchy nodes.\n",
    "\n",
    "Example data:"
   ]
  },
  {
   "cell_type": "code",
   "execution_count": 34,
   "metadata": {},
   "outputs": [
    {
     "data": {
      "text/html": [
       "<div>\n",
       "<style scoped>\n",
       "    .dataframe tbody tr th:only-of-type {\n",
       "        vertical-align: middle;\n",
       "    }\n",
       "\n",
       "    .dataframe tbody tr th {\n",
       "        vertical-align: top;\n",
       "    }\n",
       "\n",
       "    .dataframe thead th {\n",
       "        text-align: right;\n",
       "    }\n",
       "</style>\n",
       "<table border=\"1\" class=\"dataframe\">\n",
       "  <thead>\n",
       "    <tr style=\"text-align: right;\">\n",
       "      <th></th>\n",
       "      <th></th>\n",
       "      <th></th>\n",
       "      <th>passengers</th>\n",
       "    </tr>\n",
       "    <tr>\n",
       "      <th>l2_agg</th>\n",
       "      <th>l1_agg</th>\n",
       "      <th>timepoints</th>\n",
       "      <th></th>\n",
       "    </tr>\n",
       "  </thead>\n",
       "  <tbody>\n",
       "    <tr>\n",
       "      <th rowspan=\"5\" valign=\"top\">l2_node01</th>\n",
       "      <th rowspan=\"5\" valign=\"top\">l1_node04</th>\n",
       "      <th>1949-01</th>\n",
       "      <td>1751.046693</td>\n",
       "    </tr>\n",
       "    <tr>\n",
       "      <th>1949-02</th>\n",
       "      <td>1847.272729</td>\n",
       "    </tr>\n",
       "    <tr>\n",
       "      <th>1949-03</th>\n",
       "      <td>2072.660808</td>\n",
       "    </tr>\n",
       "    <tr>\n",
       "      <th>1949-04</th>\n",
       "      <td>2024.264252</td>\n",
       "    </tr>\n",
       "    <tr>\n",
       "      <th>1949-05</th>\n",
       "      <td>1895.470000</td>\n",
       "    </tr>\n",
       "    <tr>\n",
       "      <th>...</th>\n",
       "      <th>...</th>\n",
       "      <th>...</th>\n",
       "      <td>...</td>\n",
       "    </tr>\n",
       "    <tr>\n",
       "      <th rowspan=\"5\" valign=\"top\">l2_node03</th>\n",
       "      <th rowspan=\"5\" valign=\"top\">l1_node05</th>\n",
       "      <th>1960-08</th>\n",
       "      <td>7843.728855</td>\n",
       "    </tr>\n",
       "    <tr>\n",
       "      <th>1960-09</th>\n",
       "      <td>6557.204770</td>\n",
       "    </tr>\n",
       "    <tr>\n",
       "      <th>1960-10</th>\n",
       "      <td>5942.431795</td>\n",
       "    </tr>\n",
       "    <tr>\n",
       "      <th>1960-11</th>\n",
       "      <td>5016.687658</td>\n",
       "    </tr>\n",
       "    <tr>\n",
       "      <th>1960-12</th>\n",
       "      <td>5563.869028</td>\n",
       "    </tr>\n",
       "  </tbody>\n",
       "</table>\n",
       "<p>864 rows × 1 columns</p>\n",
       "</div>"
      ],
      "text/plain": [
       "                                 passengers\n",
       "l2_agg    l1_agg    timepoints             \n",
       "l2_node01 l1_node04 1949-01     1751.046693\n",
       "                    1949-02     1847.272729\n",
       "                    1949-03     2072.660808\n",
       "                    1949-04     2024.264252\n",
       "                    1949-05     1895.470000\n",
       "...                                     ...\n",
       "l2_node03 l1_node05 1960-08     7843.728855\n",
       "                    1960-09     6557.204770\n",
       "                    1960-10     5942.431795\n",