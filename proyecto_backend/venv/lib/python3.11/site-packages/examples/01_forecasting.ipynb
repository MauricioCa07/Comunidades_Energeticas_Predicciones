{
 "cells": [
  {
   "cell_type": "markdown",
   "metadata": {},
   "source": [
    "**Set-up instructions:** this notebook give a tutorial on the forecasting learning task supported by `sktime`.\n",
    "On binder, this should run out-of-the-box.\n",
    "\n",
    "To run this notebook as intended, ensure that `sktime` with basic dependency requirements is installed in your python environment.\n",
    "\n",
    "To run this notebook with a local development version of sktime, an editable developer installation is recommended, see the [sktime developer install guide](https://www.sktime.net/en/stable/installation.html#development-versions) for instructions."
   ]
  },
  {
   "cell_type": "markdown",
   "metadata": {},
   "source": [
    "# Forecasting with sktime\n",
    "\n",
    "In forecasting, past data is used to make temporal forward predictions of a time series. This is notably different from tabular prediction tasks supported by `scikit-learn` and similar libraries.\n",
    "\n",
    "\n",
    "<img src=\"img/forecasting.png\" width=750 />\n",
    "\n",
    "`sktime` provides a common, `scikit-learn`-like interface to a variety of classical and ML-style forecasting algorithms, together with tools for building pipelines and composite machine learning models, including temporal tuning schemes, or reductions such as walk-forward application of `scikit-learn` regressors.\n",
    "\n",
    "**Section 1** provides an overview of common forecasting workflows supported by `sktime`.\n",
    "\n",
    "**Section 2** discusses the families of forecasters available in `sktime`.\n",
    "\n",
    "**Section 3** discusses advanced composition patterns, including pipeline building, reduction, tuning, ensembling, and autoML.\n",
    "\n",
    "**Section 4** gives an introduction to how to write custom estimators compliant with the `sktime` interface.\n",
    "\n",
    "Further references:\n",
    "* For further details on how forecasting is different from supervised prediction à la `scikit-learn`, and pitfalls of misdiagnosing forecasting as supervised prediction, have a look at [this notebook](./01a_forecasting_sklearn.ipynb)\n",
    "* For a scientific reference, take a look at [our paper on forecasting with sktime](https://arxiv.org/abs/2005.08067) in which we discuss `sktime`'s forecasting module in more detail and use it to replicate and extend the M4 study."
   ]
  },
  {
   "attachments": {},
   "cell_type": "markdown",
   "metadata": {},
   "source": [
    "## Table of Contents\n",
    "\n",
    "* [1. Basic forecasting workflows](#chapter1)\n",
    "    * [1.1 Data container format](#section_1_1)\n",
    "    * [1.2 Basic deployment workflow - batch fitting and forecasting](#section_1_2)\n",
    "        * [1.2.1 Basic deployment workflow in a nutshell](#section_1_2_1)\n",
    "        * [1.2.2 Forecasters that require the horizon when fitting](#section_1_2_2)\n",
    "        * [1.2.3 Forecasters that can make use of exogeneous data](#section_1_2_3)\n",
    "        * [1.2.4 Multivariate Forecasters](#section_1_2_4)\n",
    "        * [1.2.5 Prediction intervals and quantile forecasts](#section_1_2_5)  \n",
    "        * [1.2.6 Panel forecasts and hierarchical forecasts](#section_1_2_6)    \n",
    "    * [1.3 Basic evaluation workflow - evaluating a batch of forecasts against ground truth observations](#section_1_3)   \n",
    "        * [1.3.1 The basic batch forecast evaluation workflow in a nutshell - function metric interface](#section_1_3_1)\n",
    "        * [1.3.2 The basic batch forecast evaluation workflow in a nutshell - metric class interface](#section_1_3_2)           \n",
    "    * [1.4 Advanced deployment workflow: rolling updates & forecasts](#section_1_4) \n",
    "        * [1.4.1 Updating a forecaster with the update method](#section_1_4_1)    \n",
    "        * [1.4.2 Moving the \"now\" state without updating the model](#section_1_4_2)   \n",
    "        * [1.4.3 Walk-forward predictions on a batch of data](#section_1_4_3)  \n",
    "    * [1.5 Advanced evaluation workflow: rolling re-sampling and aggregate errors, rolling back-testing](#section_1_5)         \n",
    "* [2. Forecasters in sktime - searching, tags, common families](#chapter2)\n",
    "    * [2.1 Forecaster lookup - the registry](#section_2_1)\n",
    "    * [2.2 Forecaster tags](#section_2_2)\n",
    "        * [2.2.1 Capability tags: multivariate, probabilistic, hierarchical](#section_2_2_1)\n",
    "        * [2.2.2 Finding and listing forecasters by tag](#section_2_2_2)\n",
    "        * [2.2.3 Listing all forecaster tags](#section_2_2_3)\n",
    "    * [2.3 Common forecaster types](#section_2_3)\n",
    "        * [2.3.1 Exponential smoothing, theta forecaster, autoETS from statsmodels](#section_2_3_1)\n",
    "        * [2.3.2 ARIMA and autoARIMA](#section_2_3_2)\n",
    "        * [2.3.3 BATS and TBATS](#section_2_3_3)    \n",
    "        * [2.3.4 Facebook prophet](#section_2_3_4)  \n",
    "        * [2.3.5 State Space Model (Structural Time Series)](#section_2_3_5)  \n",
    "        * [2.3.6 AutoArima from StatsForecast](#section_2_3_6)  \n",
    "* [3. Advanced composition patterns - pipelines, reduction, autoML, and more](#chapter3)\n",
    "    * [3.1 Reduction: from forecasting to regression](#section_3_1)\n",
    "    * [3.2 Pipelining, detrending and deseasonalization](#section_3_2)    \n",
    "        * [3.2.1 The basic forecasting pipeline](#section_3_2_1)\n",
    "        * [3.2.2 The Detrender as pipeline component](#section_3_2_2) \n",
    "        * [3.2.3 Complex pipeline composites and parameter inspection](#section_3_2_3)        \n",
    "    * [3.3 Parameter tuning](#section_3_3)      \n",
    "        * [3.3.1 Basic tuning using ForecastingGridSearchCV](#section_3_3_1)  \n",
    "        * [3.3.2 Tuning of complex composites](#section_3_3_2)        \n",
    "        * [3.3.3 Selecting the metric and retrieving scores](#section_3_3_3) \n",
    "    * [3.4 autoML aka automated model selection, ensembling and hedging](#section_3_4) \n",
    "        * [3.4.1 autoML aka automatic model selection, using tuning plus multiplexer](#section_3_4_1)   \n",
    "        * [3.4.2 autoML: selecting transformer combinations via OptimalPassthrough](#section_3_4_2)  \n",
    "        * [3.4.3 Simple ensembling strategies](#section_3_4_3)   \n",
    "        * [3.4.4 Prediction weighted ensembles and hedge ensembles](#section_3_4_4)  \n",
    "* [4. Extension guide - implementing your own forecaster](#chapter4)        \n",
    "* [5. Summary](#chapter5)          "
   ]
  },
  {
   "cell_type": "markdown",
   "metadata": {},
   "source": [
    "#### Package imports"
   ]
  },
  {
   "cell_type": "code",
   "execution_count": 1,
   "metadata": {},
   "outputs": [],
   "source": [
    "import warnings\n",
    "\n",
    "import numpy as np\n",
    "import pandas as pd\n",
    "\n",
    "# hide warnings\n",
    "warnings.filterwarnings(\"ignore\")"
   ]
  },
  {
   "cell_type": "markdown",
   "metadata": {},
   "source": [
    "## 1. Basic forecasting workflows <a class=\"anchor\" id=\"chapter1\"></a>"
   ]
  },
  {
   "cell_type": "markdown",
   "metadata": {},
   "source": [
    "This section explains the basic forecasting workflows, and key interface points for it.\n",
    "\n",
    "We cover the following four workflows:\n",
    "\n",
    "* Basic deployment workflow: batch fitting and forecasting\n",
    "* Basic evaluation workflow: evaluating a batch of forecasts against ground truth observations\n",
    "* Advanced deployment workflow: fitting and rolling updates/forecasts\n",
    "* Advanced evaluation workflow: using rolling forecast splits and computing split-wise and aggregate errors, including common back-testing schemes"
   ]
  },
  {
   "cell_type": "markdown",
   "metadata": {},
   "source": [
    "### 1.1 Data container format<a class=\"anchor\" id=\"section_1_1\"></a>\n",
    "\n",
    "All workflows make common assumptions on the input data format.\n",
    "\n",
    "`sktime` uses `pandas` for representing time series:\n",
    "\n",
    "* `pd.DataFrame` for time series and sequences, primarily. Rows represent time indices, columns represent variables.\n",
    "* `pd.Series` can also be used for univariate time series and sequences\n",
    "* `numpy` arrays (1D and 2D) can also be passed, but `pandas` use is encouraged.\n",
    "\n",
    "The `Series.index` and `DataFrame.index` are used for representing the time series or sequence index.\n",
    "`sktime` supports pandas integer, period and timestamp indices for simple time series.\n",
    "\n",
    "`sktime` supports further, additional container formats for panel and hierarchical time series, these are discussed in Section 1.6.\n",
    "\n",
    "**Example:** as the running example in this tutorial, we use a textbook data set, the Box-Jenkins airline data set, which consists of the number of monthly totals of international airline passengers, from 1949 - 1960. Values are in thousands. See \"Makridakis, Wheelwright and Hyndman (1998) Forecasting: methods and applications\", exercises sections 2 and 3."
   ]
  },
  {
   "cell_type": "code",
   "execution_count": 2,
   "metadata": {},
   "outputs": [],
   "source": [
    "from sktime.datasets import load_airline\n",
    "from sktime.utils.plotting import plot_series"
   ]
  },
  {
   "cell_type": "code",
   "execution_count": 3,
   "metadata": {},
   "outputs": [
    {
     "data": {
      "text/plain": [
       "(<Figure size 1152x288 with 1 Axes>,\n",
       " <AxesSubplot:ylabel='Number of airline passengers'>)"
      ]
     },
     "execution_count": 3,
     "metadata": {},
     "output_type": "execute_result"
    },
    {
     "data": {
      "image/png": "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",
      "text/plain": [
       "<Figure size 1152x288 with 1 Axes>"
      ]
     },
     "metadata": {
      "needs_background": "light"
     },
     "output_type": "display_data"
    }
   ],
   "source": [
    "y = load_airline()\n",
    "\n",
    "# plotting for visualization\n",
    "plot_series(y)"
   ]
  },
  {
   "cell_type": "code",
   "execution_count": 4,
   "metadata": {},
   "outputs": [
    {
     "data": {
      "text/plain": [
       "PeriodIndex(['1949-01', '1949-02', '1949-03', '1949-04', '1949-05', '1949-06',\n",
       "             '1949-07', '1949-08', '1949-09', '1949-10',\n",
       "             ...\n",
       "             '1960-03', '1960-04', '1960-05', '1960-06', '1960-07', '1960-08',\n",
       "             '1960-09', '1960-10', '1960-11', '1960-12'],\n",
       "            dtype='period[M]', length=144)"
      ]
     },
     "execution_count": 4,
     "metadata": {},
     "output_type": "execute_result"
    }
   ],
   "source": [
    "y.index"
   ]
  },
  {
   "cell_type": "markdown",
   "metadata": {},
   "source": [
    "Generally, users are expected to use the in-built loading functionality of `pandas` and `pandas`-compatible packages to load data sets for forecasting, such as `read_csv` or the `Series` or `DataFrame` constructors if data is available in another in-memory format, e.g., `numpy.array`.\n",
    "\n",
    "`sktime` forecasters may accept input in `pandas`-adjacent formats, but will produce outputs in, and attempt to coerce inputs to, `pandas` formats.\n",
    "\n",
    "NOTE: if your favourite format is not properly converted or coerced, kindly consider to contribute that functionality to `sktime`."
   ]
  },
  {
   "cell_type": "markdown",
   "metadata": {},
   "source": [
    "### 1.2 Basic deployment workflow - batch fitting and forecasting<a class=\"anchor\" id=\"section_1_2\"></a>"
   ]
  },
  {
   "cell_type": "markdown",
   "metadata": {},
   "source": [
    "The simplest use case workflow is batch fitting and forecasting, i.e., fitting a forecasting model to one batch of past data, then asking for forecasts at time point in the future.\n",
    "\n",
    "The steps in this workflow are as follows:\n",
    "\n",
    "1. Preparation of the data\n",
    "2. Specification of the time points for which forecasts are requested. This uses a `numpy.array` or the `ForecastingHorizon` object.\n",
    "3. Specification and instantiation of the forecaster. This follows a `scikit-learn`-like syntax; forecaster objects follow the familiar `scikit-learn` `BaseEstimator` interface.\n",
    "4. Fitting the forecaster to the data, using the forecaster's `fit` method\n",
    "5. Making a forecast, using the forecaster's `predict` method\n",
    "\n",
    "The below first outlines the vanilla variant of the basic deployment workflow, step-by-step.\n",
    "\n",
    "At the end, one-cell workflows are provided, with common deviations from the pattern (Sections 1.2.1 and following)."
   ]
  },
  {
   "cell_type": "markdown",
   "metadata": {},
   "source": [
    "#### Step 1 - Preparation of the data\n",
    "\n",
    "As discussed in Section 1.1, the data is assumed to be in `pd.Series` or `pd.DataFrame` format."
   ]
  },
  {
   "cell_type": "code",
   "execution_count": 5,
   "metadata": {},
   "outputs": [],
   "source": [
    "from sktime.datasets import load_airline\n",
    "from sktime.utils.plotting import plot_series"
   ]
  },
  {
   "cell_type": "code",
   "execution_count": 6,
   "metadata": {},
   "outputs": [
    {
     "data": {
      "text/plain": [
       "(<Figure size 1152x288 with 1 Axes>,\n",
       " <AxesSubplot:ylabel='Number of airline passengers'>)"
      ]
     },
     "execution_count": 6,
     "metadata": {},
     "output_type": "execute_result"
    },
    {
     "data": {
      "image/png": "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",
      "text/plain": [
       "<Figure size 1152x288 with 1 Axes>"
      ]
     },
     "metadata": {
      "needs_background": "light"
     },
     "output_type": "display_data"
    }
   ],
   "source": [
    "# in the example, we use the airline data set.\n",
    "y = load_airline()\n",
    "plot_series(y)"
   ]
  },
  {
   "cell_type": "markdown",
   "metadata": {},
   "source": [
    "#### Step 2 - Specifying the forecasting horizon"
   ]
  },
  {
   "cell_type": "markdown",
   "metadata": {},
   "source": [
    "Now we need to specify the forecasting horizon and pass that to our forecasting algorithm.\n",
    "\n",
    "There are two main ways:\n",
    "\n",
    "* Using a `numpy.array` of integers. This assumes either integer index or periodic index (`PeriodIndex`) in the time series; the integer indicates the number of time points or periods ahead we want to make a forecast for. E.g., `1` means forecast the next period, `2` the second next period, and so on.\n",
    "* Using a `ForecastingHorizon` object. This can be used to define forecast horizons, using any supported index type as an argument. No periodic index is assumed.\n",
    "\n",
    "Forecasting horizons can be absolute, i.e., referencing specific time points in the future, or relative, i.e., referencing time differences to the present. As a default, the present is that latest time point seen in any `y` passed to the forecaster.\n",
    "\n",
    "`numpy.array` based forecasting horizons are always relative; `ForecastingHorizon` objects can be both relative and absolute. In particular, absolute forecasting horizons can only be specified using `ForecastingHorizon`."
   ]
  },
  {
   "cell_type": "markdown",
   "metadata": {},
   "source": [
    "##### Using a `numpy` forecasting horizon"
   ]
  },
  {
   "cell_type": "code",
   "execution_count": 7,
   "metadata": {},
   "outputs": [
    {
     "data": {
      "text/plain": [
       "array([ 1,  2,  3,  4,  5,  6,  7,  8,  9, 10, 11, 12, 13, 14, 15, 16, 17,\n",
       "       18, 19, 20, 21, 22, 23, 24, 25, 26, 27, 28, 29, 30, 31, 32, 33, 34,\n",
       "       35, 36])"
      ]
     },
     "execution_count": 7,
     "metadata": {},
     "output_type": "execute_result"
    }
   ],
   "source": [
    "fh = np.arange(1, 37)\n",
    "fh"
   ]
  },
  {
   "cell_type": "markdown",
   "metadata": {},
   "source": [
    "This will ask for monthly predictions for the next three years, since the original series period is 1 month.\n",
    "In another example, to predict only the second and fifth month ahead, one could write:\n",
    "\n",
    "```python\n",
    "import numpy as np\n",
    "fh = np.array([2, 5])  # 2nd and 5th step ahead\n",
    "```"
   ]
  },
  {
   "cell_type": "markdown",
   "metadata": {},
   "source": [
    "##### Using a `ForecastingHorizon` based forecasting horizon\n",
    "\n",
    "The `ForecastingHorizon` object takes absolute indices as input, but considers the input absolute or relative depending on the `is_relative` flag.\n",
    "\n",
    "`ForecastingHorizon` will automatically assume a relative horizon if temporal difference types from `pandas` are passed; if value types from `pandas` are passed, it will assume an absolute horizon.\n",
    "\n",
    "To define an absolute `ForecastingHorizon` in our example:"
   ]
  },
  {
   "cell_type": "code",
   "execution_count": 8,
   "metadata": {},
   "outputs": [],
   "source": [
    "from sktime.forecasting.base import ForecastingHorizon"
   ]
  },
  {
   "cell_type": "code",
   "execution_count": 9,
   "metadata": {},
   "outputs": [
    {
     "data": {
      "text/plain": [
       "ForecastingHorizon(['1961-01', '1961-02', '1961-03', '1961-04', '1961-05', '1961-06',\n",
       "             '1961-07', '1961-08', '1961-09', '1961-10', '1961-11', '1961-12',\n",
       "             '1962-01', '1962-02', '1962-03', '1962-04', '1962-05', '1962-06',\n",
       "             '1962-07', '1962-08', '1962-09', '1962-10', '1962-11', '1962-12',\n",
       "             '1963-01', '1963-02', '1963-03', '1963-04', '1963-05', '1963-06',\n",
       "             '1963-07', '1963-08', '1963-09', '1963-10', '1963-11', '1963-12'],\n",
       "            dtype='period[M]', is_relative=False)"
      ]
     },
     "execution_count": 9,
     "metadata": {},
     "output_type": "execute_result"
    }
   ],
   "source": [
    "fh = ForecastingHorizon(\n",
    "    pd.PeriodIndex(pd.date_range(\"1961-01\", periods=36, freq=\"M\")), is_relative=False\n",
    ")\n",
    "fh"
   ]
  },
  {
   "cell_type": "markdown",
   "metadata": {},
   "source": [
    "`ForecastingHorizon`-s can be converted from relative to absolute and back via the `to_relative` and `to_absolute` methods. Both of these conversions require a compatible `cutoff` to be passed:"
   ]
  },
  {
   "cell_type": "code",
   "execution_count": 10,
   "metadata": {},
   "outputs": [],
   "source": [
    "cutoff = pd.Period(\"1960-12\", freq=\"M\")"
   ]
  },
  {
   "cell_type": "code",
   "execution_count": 11,
   "metadata": {},
   "outputs": [
    {
     "data": {
      "text/plain": [
       "ForecastingHorizon([ 1,  2,  3,  4,  5,  6,  7,  8,  9, 10, 11, 12, 13, 14, 15, 16, 17,\n",
       "            18, 19, 20, 21, 22, 23, 24, 25, 26, 27, 28, 29, 30, 31, 32, 33, 34,\n",
       "            35, 36],\n",
       "           dtype='int64', is_relative=True)"
      ]
     },
     "execution_count": 11,
     "metadata": {},
     "output_type": "execute_result"
    }
   ],
   "source": [
    "fh.to_relative(cutoff)"
   ]
  },
  {
   "cell_type": "code",
   "execution_count": 12,
   "metadata": {},
   "outputs": [
    {
     "data": {
      "text/plain": [
       "ForecastingHorizon(['1961-01', '1961-02', '1961-03', '1961-04', '1961-05', '1961-06',\n",
       "             '1961-07', '1961-08', '1961-09', '1961-10', '1961-11', '1961-12',\n",
       "             '1962-01', '1962-02', '1962-03', '1962-04', '1962-05', '1962-06',\n",
       "             '1962-07', '1962-08', '1962-09', '1962-10', '1962-11', '1962-12',\n",
       "             '1963-01', '1963-02', '1963-03', '1963-04', '1963-05', '1963-06',\n",
       "             '1963-07', '1963-08', '1963-09', '1963-10', '1963-11', '1963-12'],\n",
       "            dtype='period[M]', is_relative=False)"
      ]
     },
     "execution_count": 12,
     "metadata": {},
     "output_type": "execute_result"
    }
   ],
   "source": [
    "fh.to_absolute(cutoff)"
   ]
  },
  {
   "cell_type": "markdown",
   "metadata": {},
   "source": [
    "#### Step 3 - Specifying the forecasting algorithm\n",
    "\n",
    "To make forecasts, a forecasting algorithm needs to be specified. This is done using a `scikit-learn`-like interface. Most importantly, all `sktime` forecasters follow the same interface, so the preceding and remaining steps are the same, no matter which forecaster is being chosen.\n",
    "\n",
    "For this example, we choose the naive forecasting method of predicting the last seen value. More complex specifications are possible, using pipeline and reduction construction syntax; this will be covered later in Section 2."
   ]
  },
  {
   "cell_type": "code",
   "execution_count": 13,
   "metadata": {},
   "outputs": [],
   "source": [
    "from sktime.forecasting.naive import NaiveForecaster"
   ]
  },
  {
   "cell_type": "code",
   "execution_count": 14,
   "metadata": {},
   "outputs": [],
   "source": [
    "forecaster = NaiveForecaster(strategy=\"last\")"
   ]
  },
  {
   "cell_type": "markdown",
   "metadata": {},
   "source": [
    "#### Step 4 - Fitting the forecaster to the seen data\n",
    "\n",
    "Now the forecaster needs to be fitted to the seen data:"
   ]
  },
  {
   "cell_type": "code",
   "execution_count": 15,
   "metadata": {},
   "outputs": [
    {
     "data": {
      "text/plain": [
       "NaiveForecaster()"
      ]
     },
     "execution_count": 15,
     "metadata": {},
     "output_type": "execute_result"
    }
   ],
   "source": [
    "forecaster.fit(y)"
   ]
  },
  {
   "cell_type": "markdown",
   "metadata": {},
   "source": [
    "#### Step 5 - Requesting forecasts\n",
    "\n",
    "Finally, we request forecasts for the specified forecasting horizon. This needs to be done after fitting the forecaster:"
   ]
  },
  {
   "cell_type": "code",
   "execution_count": 16,
   "metadata": {},
   "outputs": [],
   "source": [
    "y_pred = forecaster.predict(fh)"
   ]
  },
  {
   "cell_type": "code",
   "execution_count": 17,
   "metadata": {},
   "outputs": [
    {
     "data": {
      "text/plain": [
       "(<Figure size 1152x288 with 1 Axes>,\n",
       " <AxesSubplot:ylabel='Number of airline passengers'>)"
      ]
     },
     "execution_count": 17,
     "metadata": {},
     "output_type": "execute_result"
    },
    {
     "data": {
      "image/png": "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",
      "text/plain": [
       "<Figure size 1152x288 with 1 Axes>"
      ]
     },
     "metadata": {
      "needs_background": "light"
     },
     "output_type": "display_data"
    }
   ],
   "source": [
    "# plotting predictions and past data\n",
    "plot_series(y, y_pred, labels=[\"y\", \"y_pred\"])"
   ]
  },
  {
   "cell_type": "markdown",
   "metadata": {},
   "source": [
    "#### 1.2.1 The basic deployment workflow in a nutshell<a class=\"anchor\" id=\"section_1_2_1\"></a>\n",
    "\n",
    "For convenience, we present the basic deployment workflow in one cell.\n",
    "This uses the same data, but different forecaster: predicting the latest value observed in the same month."
   ]
  },
  {
   "cell_type": "code",
   "execution_count": 18,
   "metadata": {},
   "outputs": [],
   "source": [
    "from sktime.datasets import load_airline\n",
    "from sktime.forecasting.base import ForecastingHorizon\n",
    "from sktime.forecasting.naive import NaiveForecaster"
   ]
  },
  {
   "cell_type": "code",
   "execution_count": 19,
   "metadata": {},
   "outputs": [],
   "source": [
    "# step 1: data specification\n",
    "y = load_airline()\n",
    "\n",
    "# step 2: specifying forecasting horizon\n",
    "fh = np.arange(1, 37)\n",
    "\n",
    "# step 3: specifying the forecasting algorithm\n",
    "forecaster = NaiveForecaster(strategy=\"last\", sp=12)\n",
    "\n",
    "# step 4: fitting the forecaster\n",
    "forecaster.fit(y)\n",
    "\n",
    "# step 5: querying predictions\n",
    "y_pred = forecaster.predict(fh)"
   ]
  },
  {
   "cell_type": "code",
   "execution_count": 20,
   "metadata": {},
   "outputs": [
    {
     "data": {
      "text/plain": [
       "(<Figure size 1152x288 with 1 Axes>,\n",
       " <AxesSubplot:ylabel='Number of airline passengers'>)"
      ]
     },
     "execution_count": 20,
     "metadata": {},
     "output_type": "execute_result"
    },
    {
     "data": {
      "image/png": "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",
      "text/plain": [
       "<Figure size 1152x288 with 1 Axes>"
      ]
     },
     "metadata": {
      "needs_background": "light"
     },
     "output_type": "display_data"
    }
   ],
   "source": [
    "# optional: plotting predictions and past data\n",
    "plot_series(y, y_pred, labels=[\"y\", \"y_pred\"])"
   ]
  },
  {
   "cell_type": "markdown",
   "metadata": {},
   "source": [
    "#### 1.2.2 Forecasters that require the horizon already in `fit` <a class=\"anchor\" id=\"section_1_2_2\"></a>\n",
    "\n",
    "Some forecasters need the forecasting horizon provided already in `fit`. Such forecasters will produce informative error messages when it is not passed in `fit`. All forecaster will remember the horizon when already passed in `fit` for prediction. The modified workflow to allow for such forecasters in addition is as follows:"
   ]
  },
  {
   "cell_type": "code",
   "execution_count": 21,
   "metadata": {},
   "outputs": [],
   "source": [
    "# step 1: data specification\n",
    "y = load_airline()\n",
    "\n",
    "# step 2: specifying forecasting horizon\n",
    "fh = np.arange(1, 37)\n",
    "\n",
    "# step 3: specifying the forecasting algorithm\n",
    "forecaster = NaiveForecaster(strategy=\"last\", sp=12)\n",
    "\n",
    "# step 4: fitting the forecaster\n",
    "forecaster.fit(y, fh=fh)\n",
    "\n",
    "# step 5: querying predictions\n",
    "y_pred = forecaster.predict()"
   ]
  },
  {
   "cell_type": "markdown",
   "metadata": {
    "execution": {
     "iopub.execute_input": "2021-04-10T16:07:06.475031Z",
     "iopub.status.busy": "2021-04-10T16:07:06.473831Z",
     "iopub.status.idle": "2021-04-10T16:07:06.613175Z",
     "shell.execute_reply": "2021-04-10T16:07:06.613700Z"
    }
   },
   "source": [
    "#### 1.2.3 Forecasters that can make use of exogeneous data<a class=\"anchor\" id=\"section_1_2_3\"></a>\n",
    "\n",
    "Many forecasters can make use of exogeneous time series, i.e., other time series that are not forecast, but are useful for forecasting `y`. Exogeneous time series are always passed as an `X` argument, in `fit`, `predict`, and other methods (see below). Exogeneous time series should always be passed as `pandas.DataFrames`. Most forecasters that can deal with exogeneous time series will assume that the time indices of `X` passed to `fit` are a super-set of the time indices in `y` passed to `fit`; and that the time indices of `X` passed to `predict` are a super-set of time indices in `fh`, although this is not a general interface restriction. Forecasters that do not make use of exogeneous time series still accept the argument (and do not use it internally).\n",
    "\n",
    "The general workflow for passing exogeneous data is as follows:"
   ]
  },
  {
   "cell_type": "code",
   "execution_count": 22,
   "metadata": {},
   "outputs": [],
   "source": [
    "# step 1: data specification\n",
    "y = load_airline()\n",
    "# we create some dummy exogeneous data\n",
    "X = pd.DataFrame(index=y.index)\n",
    "\n",
    "# step 2: specifying forecasting horizon\n",
    "fh = np.arange(1, 37)\n",
    "\n",
    "# step 3: specifying the forecasting algorithm\n",
    "forecaster = NaiveForecaster(strategy=\"last\", sp=12)\n",
    "\n",
    "# step 4: fitting the forecaster\n",
    "forecaster.fit(y, X=X, fh=fh)\n",
    "\n",
    "# step 5: querying predictions\n",
    "y_pred = forecaster.predict(X=X)"
   ]
  },
  {
   "cell_type": "markdown",
   "metadata": {},
   "source": [
    "NOTE: as in workflows 1.2.1 and 1.2.2, some forecasters that use exogeneous variables may also require the forecasting horizon only in `predict`. Such forecasters may also be called with steps 4 and 5 being\n",
    "```python\n",
    "forecaster.fit(y, X=X)\n",
    "y_pred = forecaster.predict(fh=fh, X=X)\n",
    "```"
   ]
  },
  {
   "cell_type": "markdown",
   "metadata": {},
   "source": [
    "#### 1.2.4. Multivariate forecasting <a class=\"anchor\" id=\"section_1_2_4\"></a>"
   ]
  },
  {
   "cell_type": "markdown",
   "metadata": {},
   "source": [
    "All forecasters in `sktime` support multivariate forecasts - some forecasters are \"genuine\" multivariate, all others \"apply by column\".\n",
    "\n",
    "Below is an example of the general multivariate forecasting workflow, using the `VAR` (vector auto-regression) forecaster on the Longley dataset from `sktime.datasets`. The workflow is the same as in the univariate forecasters, but the input has more than one variables (columns)."
   ]
  },
  {
   "cell_type": "code",
   "execution_count": 23,
   "metadata": {},
   "outputs": [],
   "source": [
    "from sktime.datasets import load_longley\n",
    "from sktime.forecasting.var import VAR\n",
    "\n",
    "_, y = load_longley()\n",
    "\n",
    "y = y.drop(columns=[\"UNEMP\", \"ARMED\", \"POP\"])\n",
    "\n",
    "forecaster = VAR()\n",
    "forecaster.fit(y, fh=[1, 2, 3])\n",
    "\n",
    "y_pred = forecaster.predict()"
   ]
  },
  {
   "cell_type": "markdown",
   "metadata": {},
   "source": [
    "The input to the multivariate forecaster `y` is a `pandas.DataFrame` where each column is a variable."
   ]
  },
  {
   "cell_type": "code",
   "execution_count": 24,
   "metadata": {},
   "outputs": [
    {
     "data": {
      "text/html": [
       "<div>\n",
       "<style scoped>\n",
       "    .dataframe tbody tr th:only-of-type {\n",
       "        vertical-align: middle;\n",
       "    }\n",
       "\n",
       "    .dataframe tbody tr th {\n",
       "        vertical-align: top;\n",
       "    }\n",
       "\n",
       "    .dataframe thead th {\n",
       "        text-align: right;\n",
       "    }\n",
       "</style>\n",
       "<table border=\"1\" class=\"dataframe\">\n",
       "  <thead>\n",
       "    <tr style=\"text-align: right;\">\n",
       "      <th></th>\n",
       "      <th>GNPDEFL</th>\n",
       "      <th>GNP</th>\n",
       "    </tr>\n",
       "    <tr>\n",
       "      <th>Period</th>\n",
       "      <th></th>\n",
       "      <th></th>\n",
       "    </tr>\n",
       "  </thead>\n",
       "  <tbody>\n",
       "    <tr>\n",
       "      <th>1947</th>\n",
       "      <td>83.0</td>\n",
       "      <td>234289.0</td>\n",
       "    </tr>\n",
       "    <tr>\n",
       "      <th>1948</th>\n",
       "      <td>88.5</td>\n",
       "      <td>259426.0</td>\n",
       "    </tr>\n",
       "    <tr>\n",
       "      <th>1949</th>\n",
       "      <td>88.2</td>\n",
       "      <td>258054.0</td>\n",
       "    </tr>\n",
       "    <tr>\n",
       "      <th>1950</th>\n",
       "      <td>89.5</td>\n",
       "      <td>284599.0</td>\n",
       "    </tr>\n",
       "    <tr>\n",
       "      <th>1951</th>\n",
       "      <td>96.2</td>\n",
       "      <td>328975.0</td>\n",
       "    </tr>\n",
       "    <tr>\n",
       "      <th>1952</th>\n",
       "      <td>98.1</td>\n",
       "      <td>346999.0</td>\n",
       "    </tr>\n",
       "    <tr>\n",
       "      <th>1953</th>\n",
       "      <td>99.0</td>\n",
       "      <td>365385.0</td>\n",
       "    </tr>\n",
       "    <tr>\n",
       "      <th>1954</th>\n",
       "      <td>100.0</td>\n",
       "      <td>363112.0</td>\n",
       "    </tr>\n",
       "    <tr>\n",
       "      <th>1955</th>\n",
       "      <td>101.2</td>\n",
       "      <td>397469.0</td>\n",
       "    </tr>\n",
       "    <tr>\n",
       "      <th>1956</th>\n",
       "      <td>104.6</td>\n",
       "      <td>419180.0</td>\n",
       "    </tr>\n",
       "    <tr>\n",
       "      <th>1957</th>\n",
       "      <td>108.4</td>\n",
       "      <td>442769.0</td>\n",
       "    </tr>\n",
       "    <tr>\n",
       "      <th>1958</th>\n",
       "      <td>110.8</td>\n",
       "      <td>444546.0</td>\n",
       "    </tr>\n",
       "    <tr>\n",
       "      <th>1959</th>\n",
       "      <td>112.6</td>\n",
       "      <td>482704.0</td>\n",
       "    </tr>\n",
       "    <tr>\n",
       "      <th>1960</th>\n",
       "      <td>114.2</td>\n",
       "      <td>502601.0</td>\n",
       "    </tr>\n",
       "    <tr>\n",
       "      <th>1961</th>\n",
       "      <td>115.7</td>\n",
       "      <td>518173.0</td>\n",
       "    </tr>\n",
       "    <tr>\n",
       "      <th>1962</th>\n",
       "      <td>116.9</td>\n",
       "      <td>554894.0</td>\n",
       "    </tr>\n",
       "  </tbody>\n",
       "</table>\n",
       "</div>"
      ],
      "text/plain": [
       "        GNPDEFL       GNP\n",
       "Period                   \n",
       "1947       83.0  234289.0\n",
       "1948       88.5  259426.0\n",
       "1949       88.2  258054.0\n",
       "1950       89.5  284599.0\n",
       "1951       96.2  328975.0\n",
       "1952       98.1  346999.0\n",
       "1953       99.0  365385.0\n",
       "1954      100.0  363112.0\n",
       "1955      101.2  397469.0\n",
       "1956      104.6  419180.0\n",
       "1957      108.4  442769.0\n",
       "1958      110.8  444546.0\n",
       "1959      112.6  482704.0\n",
       "1960      114.2  502601.0\n",
       "1961      115.7  518173.0\n",
       "1962      116.9  554894.0"
      ]
     },
     "execution_count": 24,
     "metadata": {},
     "output_type": "execute_result"
    }
   ],
   "source": [
    "y"
   ]
  },
  {
   "cell_type": "markdown",
   "metadata": {},
   "source": [
    "The result of the multivariate forecaster `y_pred` is a `pandas.DataFrame` where columns are the predicted values for each variable. The variables in `y_pred` are the same as in `y`, the input to the multivariate forecaster."
   ]
  },
  {
   "cell_type": "code",
   "execution_count": 25,
   "metadata": {},
   "outputs": [
    {
     "data": {
      "text/html": [
       "<div>\n",
       "<style scoped>\n",
       "    .dataframe tbody tr th:only-of-type {\n",
       "        vertical-align: middle;\n",
       "    }\n",
       "\n",
       "    .dataframe tbody tr th {\n",
       "        vertical-align: top;\n",
       "    }\n",
       "\n",
       "    .dataframe thead th {\n",
       "        text-align: right;\n",
       "    }\n",
       "</style>\n",
       "<table border=\"1\" class=\"dataframe\">\n",
       "  <thead>\n",
       "    <tr style=\"text-align: right;\">\n",
       "      <th></th>\n",
       "      <th>GNPDEFL</th>\n",
       "      <th>GNP</th>\n",
       "    </tr>\n",
       "  </thead>\n",
       "  <tbody>\n",
       "    <tr>\n",
       "      <th>1963</th>\n",
       "      <td>121.688295</td>\n",
       "      <td>578514.398653</td>\n",
       "    </tr>\n",
       "    <tr>\n",
       "      <th>1964</th>\n",
       "      <td>124.353664</td>\n",
       "      <td>601873.015890</td>\n",
       "    </tr>\n",
       "    <tr>\n",
       "      <th>1965</th>\n",
       "      <td>126.847886</td>\n",
       "      <td>625411.588754</td>\n",
       "    </tr>\n",
       "  </tbody>\n",
       "</table>\n",
       "</div>"
      ],
      "text/plain": [
       "         GNPDEFL            GNP\n",
       "1963  121.688295  578514.398653\n",
       "1964  124.353664  601873.015890\n",
       "1965  126.847886  625411.588754"
      ]
     },
     "execution_count": 25,
     "metadata": {},
     "output_type": "execute_result"
    }
   ],
   "source": [
    "y_pred"
   ]
  },
  {
   "cell_type": "markdown",
   "metadata": {},
   "source": [
    "As said above, all forecasters accept multivariate input and will produce multivariate forecasts.\n",
    "There are two categories:\n",
    "\n",
    "* forecasters that are genuinely multivariate, such as `VAR`. Forecasts for one endogeneous (`y`) variable will depend on values of other variables.\n",
    "* forecasters that are univariate, such as `ARIMA`. Forecasts will be made by endogeneous (`y`) variable, and not be affected by other variables.\n",
    "\n",
    "To display complete list of multivariate forecasters, search for forecasters with `'multivariate'` or `'both'` tag value for the tag `'scitype:y'`, as follows:"
   ]
  },
  {
   "cell_type": "code",
   "execution_count": 26,
   "metadata": {},
   "outputs": [],
   "source": [
    "from sktime.registry import all_estimators\n",
    "\n",
    "for forecaster in all_estimators(filter_tags={\"scitype:y\": [\"multivariate\", \"both\"]}):\n",
    "    print(forecaster[0])"
   ]
  },
  {
   "cell_type": "markdown",
   "metadata": {},
   "source": [
    "Univariate forecasters have tag value `'univariate'`, and will fit one model per column.\n",
    "To access the column-wise models, access the `forecasters_` parameter, which stores the fitted forecasters in a `pandas.DataFrame`, fitted forecasters being in the column with the variable for which the forecast is being made:"
   ]
  },
  {
   "cell_type": "code",
   "execution_count": 27,
   "metadata": {},
   "outputs": [
    {
     "data": {
      "text/html": [
       "<div>\n",
       "<style scoped>\n",
       "    .dataframe tbody tr th:only-of-type {\n",
       "        vertical-align: middle;\n",
       "    }\n",
       "\n",
       "    .dataframe tbody tr th {\n",
       "        vertical-align: top;\n",
       "    }\n",
       "\n",
       "    .dataframe thead th {\n",
       "        text-align: right;\n",
       "    }\n",
       "</style>\n",
       "<table border=\"1\" class=\"dataframe\">\n",
       "  <thead>\n",
       "    <tr style=\"text-align: right;\">\n",
       "      <th></th>\n",
       "      <th>GNPDEFL</th>\n",
       "      <th>GNP</th>\n",
       "    </tr>\n",
       "  </thead>\n",
       "  <tbody>\n",
       "    <tr>\n",
       "      <th>forecasters</th>\n",
       "      <td>ARIMA()</td>\n",
       "      <td>ARIMA()</td>\n",
       "    </tr>\n",
       "  </tbody>\n",
       "</table>\n",
       "</div>"
      ],
      "text/plain": [
       "             GNPDEFL      GNP\n",
       "forecasters  ARIMA()  ARIMA()"
      ]
     },
     "execution_count": 27,
     "metadata": {},
     "output_type": "execute_result"
    }
   ],
   "source": [
    "from sktime.datasets import load_longley\n",
    "from sktime.forecasting.arima import ARIMA\n",
    "\n",
    "_, y = load_longley()\n",
    "\n",
    "y = y.drop(columns=[\"UNEMP\", \"ARMED\", \"POP\"])\n",
    "\n",
    "forecaster = ARIMA()\n",
    "forecaster.fit(y, fh=[1, 2, 3])\n",
    "\n",
    "forecaster.forecasters_"
   ]
  },
  {
   "cell_type": "markdown",
   "metadata": {},
   "source": [
    "#### 1.2.5 Probabilistic forecasting: prediction intervals, quantile, variance, and distributional forecasts <a class=\"anchor\" id=\"section_1_2_5\"></a>\n",
    "\n",
    "`sktime` provides a unified interface to make probabilistic forecasts.\n",
    "The following methods are possibly available for probabilistic forecasts:\n",
    "\n",
    "* `predict_interval` produces interval forecasts. Additionally to any `predict` arguments, an argument `coverage` (nominal interval coverage) must be provided.\n",
    "* `predict_quantiles` produces quantile forecasts. Additionally to any `predict` arguments, an argument `alpha` (quantile values) must be provided.\n",
    "* `predict_var` produces variance forecasts. This has same arguments as `predict`.\n",
    "* `predict_proba` produces full distributional forecasts. This has same arguments as `predict`.\n",
    "\n",
    "Not all forecasters are capable of returning probabilistic forecast, but if a forecasters provides one kind of probabilistic forecast, it is also capable of returning the others. The list of forecasters with such capability can be queried by `registry.all_estimators`, searching for those where the `capability:pred_int` tag has value`True`.\n",
    "\n",
    "The basic workflow for probabilistic forecasts is similar to the basic forecasting workflow, with the difference that instead of `predict`, one of the probabilistic forecasting methods is used:\n"
   ]
  },
  {
   "cell_type": "code",
   "execution_count": 28,
   "metadata": {},
   "outputs": [
    {
     "data": {
      "text/plain": [
       "ThetaForecaster(sp=12)"
      ]
     },
     "execution_count": 28,
     "metadata": {},
     "output_type": "execute_result"
    }
   ],
   "source": [
    "import numpy as np\n",
    "\n",
    "from sktime.datasets import load_airline\n",
    "from sktime.forecasting.theta import ThetaForecaster\n",
    "\n",
    "# until fit, identical with the simple workflow\n",
    "y = load_airline()\n",
    "\n",
    "fh = np.arange(1, 13)\n",
    "\n",
    "forecaster = ThetaForecaster(sp=12)\n",
    "forecaster.fit(y, fh=fh)"
   ]
  },
  {
   "cell_type": "markdown",
   "metadata": {},
   "source": [
    "Now we present the different probabilistic forecasting methods."
   ]
  },
  {
   "cell_type": "markdown",
   "metadata": {},
   "source": [
    "##### `predict_interval` - interval predictions"
   ]
  },
  {
   "cell_type": "markdown",
   "metadata": {},
   "source": [
    "`predict_interval` takes an argument `coverage`, which is a float (or list of floats), the nominal coverage of the prediction interval(s) queried. `predict_interval` produces symmetric prediction intervals, for example, a coverage of `0.9` returns a \"lower\" forecast at quantile `0.5 - coverage/2 = 0.05`, and an \"upper\" forecast at quantile `0.5 + coverage/2 = 0.95`."
   ]
  },
  {
   "cell_type": "code",
   "execution_count": 29,
   "metadata": {},
   "outputs": [
    {
     "data": {
      "text/html": [
       "<div>\n",
       "<style scoped>\n",
       "    .dataframe tbody tr th:only-of-type {\n",
       "        vertical-align: middle;\n",
       "    }\n",
       "\n",
       "    .dataframe tbody tr th {\n",
       "        vertical-align: top;\n",
       "    }\n",
       "\n",
       "    .dataframe thead tr th {\n",
       "        text-align: left;\n",
       "    }\n",
       "</style>\n",
       "<table border=\"1\" class=\"dataframe\">\n",
       "  <thead>\n",
       "    <tr>\n",
       "      <th></th>\n",
       "      <th colspan=\"2\" halign=\"left\">Coverage</th>\n",
       "    </tr>\n",
       "    <tr>\n",
       "      <th></th>\n",
       "      <th colspan=\"2\" halign=\"left\">0.9</th>\n",
       "    </tr>\n",
       "    <tr>\n",
       "      <th></th>\n",
       "      <th>lower</th>\n",
       "      <th>upper</th>\n",
       "    </tr>\n",
       "  </thead>\n",
       "  <tbody>\n",
       "    <tr>\n",
       "      <th>1961-01</th>\n",
       "      <td>418.280122</td>\n",
       "      <td>464.281951</td>\n",
       "    </tr>\n",
       "    <tr>\n",
       "      <th>1961-02</th>\n",
       "      <td>402.215882</td>\n",
       "      <td>456.888054</td>\n",
       "    </tr>\n",
       "    <tr>\n",
       "      <th>1961-03</th>\n",
       "      <td>459.966115</td>\n",
       "      <td>522.110499</td>\n",
       "    </tr>\n",
       "    <tr>\n",
       "      <th>1961-04</th>\n",
       "      <td>442.589311</td>\n",
       "      <td>511.399213</td>\n",
       "    </tr>\n",
       "    <tr>\n",
       "      <th>1961-05</th>\n",
       "      <td>443.525029</td>\n",
       "      <td>518.409479</td>\n",
       "    </tr>\n",
       "    <tr>\n",
       "      <th>1961-06</th>\n",
       "      <td>506.585817</td>\n",
       "      <td>587.087736</td>\n",
       "    </tr>\n",
       "    <tr>\n",
       "      <th>1961-07</th>\n",
       "      <td>561.496771</td>\n",
       "      <td>647.248955</td>\n",
       "    </tr>\n",
       "    <tr>\n",
       "      <th>1961-08</th>\n",
       "      <td>557.363325</td>\n",
       "      <td>648.062362</td>\n",
       "    </tr>\n",
       "    <tr>\n",
       "      <th>1961-09</th>\n",
       "      <td>477.658059</td>\n",
       "      <td>573.047750</td>\n",
       "    </tr>\n",
       "    <tr>\n",
       "      <th>1961-10</th>\n",
       "      <td>407.915093</td>\n",
       "      <td>507.775353</td>\n",
       "    </tr>\n",
       "    <tr>\n",
       "      <th>1961-11</th>\n",
       "      <td>346.942927</td>\n",
       "      <td>451.082014</td>\n",
       "    </tr>\n",
       "    <tr>\n",
       "      <th>1961-12</th>\n",
       "      <td>394.708224</td>\n",
       "      <td>502.957139</td>\n",
       "    </tr>\n",
       "  </tbody>\n",
       "</table>\n",
       "</div>"
      ],
      "text/plain": [
       "           Coverage            \n",
       "                0.9            \n",
       "              lower       upper\n",
       "1961-01  418.280122  464.281951\n",
       "1961-02  402.215882  456.888054\n",
       "1961-03  459.966115  522.110499\n",
       "1961-04  442.589311  511.399213\n",
       "1961-05  443.525029  518.409479\n",
       "1961-06  506.585817  587.087736\n",
       "1961-07  561.496771  647.248955\n",
       "1961-08  557.363325  648.062362\n",
       "1961-09  477.658059  573.047750\n",
       "1961-10  407.915093  507.775353\n",
       "1961-11  346.942927  451.082014\n",
       "1961-12  394.708224  502.957139"
      ]
     },
     "execution_count": 29,
     "metadata": {},
     "output_type": "execute_result"
    }
   ],
   "source": [
    "coverage = 0.9\n",
    "y_pred_ints = forecaster.predict_interval(coverage=coverage)\n",
    "y_pred_ints"
   ]
  },
  {
   "cell_type": "markdown",
   "metadata": {},
   "source": [
    "The return `y_pred_ints` is a `pandas.DataFrame` with a column multi-index: The first level is variable name from `y` in fit (or `Coverage` if no variable names were present), second level coverage fractions for which intervals were computed, in the same order as in input `coverage`; third level columns `lower` and `upper`. Rows are the indices for which forecasts were made (same as in `y_pred` or `fh`). Entries are lower/upper (as column name) bound of the nominal coverage predictive interval for the index in the same row. "
   ]
  },
  {
   "cell_type": "markdown",
   "metadata": {},
   "source": [
    "Pretty-plotting the predictive interval forecasts:"
   ]
  },
  {
   "cell_type": "code",
   "execution_count": 30,
   "metadata": {},
   "outputs": [
    {
     "data": {
      "image/png": "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",
      "text/plain": [
       "<Figure size 1152x288 with 1 Axes>"
      ]
     },
     "metadata": {
      "needs_background": "light"
     },
     "output_type": "display_data"
    }
   ],
   "source": [
    "from sktime.utils import plotting\n",
    "\n",
    "# also requires predictions\n",
    "y_pred = forecaster.predict()\n",
    "\n",
    "fig, ax = plotting.plot_series(\n",
    "    y, y_pred, labels=[\"y\", \"y_pred\"], pred_interval=y_pred_ints\n",
    ")"
   ]
  },
  {
   "cell_type": "markdown",
   "metadata": {},
   "source": [
    "##### `predict_quantiles` - quantile forecasts"
   ]
  },
  {
   "cell_type": "markdown",
   "metadata": {},
   "source": [
    "sktime offers `predict_quantiles` as a unified interface to return quantile values of predictions. Similar to `predict_interval`.\n",
    "\n",
    "`predict_quantiles` has an argument `alpha`, containing the quantile values being queried. Similar to the case of the `predict_interval`, `alpha` can be a `float`, or a `list of floats`. "
   ]
  },
  {
   "cell_type": "code",
   "execution_count": 31,
   "metadata": {},
   "outputs": [
    {
     "data": {
      "text/html": [
       "<div>\n",
       "<style scoped>\n",
       "    .dataframe tbody tr th:only-of-type {\n",
       "        vertical-align: middle;\n",
       "    }\n",
       "\n",
       "    .dataframe tbody tr th {\n",
       "        vertical-align: top;\n",
       "    }\n",
       "\n",
       "    .dataframe thead tr th {\n",
       "        text-align: left;\n",
       "    }\n",
       "</style>\n",
       "<table border=\"1\" class=\"dataframe\">\n",
       "  <thead>\n",
       "    <tr>\n",
       "      <th></th>\n",
       "      <th colspan=\"2\" halign=\"left\">Quantiles</th>\n",
       "    </tr>\n",
       "    <tr>\n",
       "      <th></th>\n",
       "      <th>0.275</th>\n",
       "      <th>0.975</th>\n",
       "    </tr>\n",
       "  </thead>\n",
       "  <tbody>\n",
       "    <tr>\n",
       "      <th>1961-01</th>\n",
       "      <td>432.922220</td>\n",
       "      <td>468.688317</td>\n",
       "    </tr>\n",
       "    <tr>\n",
       "      <th>1961-02</th>\n",
       "      <td>419.617697</td>\n",
       "      <td>462.124924</td>\n",
       "    </tr>\n",
       "    <tr>\n",
       "      <th>1961-03</th>\n",
       "      <td>479.746288</td>\n",
       "      <td>528.063108</td>\n",
       "    </tr>\n",
       "    <tr>\n",
       "      <th>1961-04</th>\n",
       "      <td>464.491078</td>\n",
       "      <td>517.990290</td>\n",
       "    </tr>\n",
       "    <tr>\n",
       "      <th>1961-05</th>\n",
       "      <td>467.360287</td>\n",
       "      <td>525.582417</td>\n",
       "    </tr>\n",
       "    <tr>\n",
       "      <th>1961-06</th>\n",
       "      <td>532.209080</td>\n",
       "      <td>594.798752</td>\n",
       "    </tr>\n",
       "    <tr>\n",
       "      <th>1961-07</th>\n",
       "      <td>588.791161</td>\n",
       "      <td>655.462877</td>\n",
       "    </tr>\n",
       "    <tr>\n",
       "      <th>1961-08</th>\n",
       "      <td>586.232268</td>\n",
       "      <td>656.750127</td>\n",
       "    </tr>\n",
       "    <tr>\n",
       "      <th>1961-09</th>\n",
       "      <td>508.020008</td>\n",
       "      <td>582.184819</td>\n",
       "    </tr>\n",
       "    <tr>\n",
       "      <th>1961-10</th>\n",
       "      <td>439.699997</td>\n",
       "      <td>517.340642</td>\n",
       "    </tr>\n",
       "    <tr>\n",
       "      <th>1961-11</th>\n",
       "      <td>380.089755</td>\n",
       "      <td>461.057159</td>\n",
       "    </tr>\n",
       "    <tr>\n",
       "      <th>1961-12</th>\n",
       "      <td>429.163185</td>\n",
       "      <td>513.325951</td>\n",
       "    </tr>\n",
       "  </tbody>\n",
       "</table>\n",
       "</div>"
      ],
      "text/plain": [
       "          Quantiles            \n",
       "              0.275       0.975\n",
       "1961-01  432.922220  468.688317\n",
       "1961-02  419.617697  462.124924\n",
       "1961-03  479.746288  528.063108\n",
       "1961-04  464.491078  517.990290\n",
       "1961-05  467.360287  525.582417\n",
       "1961-06  532.209080  594.798752\n",
       "1961-07  588.791161  655.462877\n",
       "1961-08  586.232268  656.750127\n",
       "1961-09  508.020008  582.184819\n",
       "1961-10  439.699997  517.340642\n",
       "1961-11  380.089755  461.057159\n",
       "1961-12  429.163185  513.325951"
      ]
     },
     "execution_count": 31,
     "metadata": {},
     "output_type": "execute_result"
    }
   ],
   "source": [
    "y_pred_quantiles = forecaster.predict_quantiles(alpha=[0.275, 0.975])\n",
    "y_pred_quantiles"
   ]
  },
  {
   "cell_type": "markdown",
   "metadata": {},
   "source": [
    "`y_pred_quantiles`, the output of predict_quantiles, is a `pandas.DataFrame` with a two-level column multiindex. The first level is variable name from `y` in fit (or `Quantiles` if no variable names were present), second level are the quantile values (from `alpha`) for which quantile predictions were queried. Rows are the indices for which forecasts were made (same as in `y_pred` or `fh`). Entries are the quantile predictions for that variable, that quantile value, for the time index in the same row."
   ]
  },
  {
   "cell_type": "markdown",
   "metadata": {},
   "source": [
    "Remark: for clarity: quantile and (symmetric) interval forecasts can be translated into each other as follows.\n",
    "\n",
    "**alpha < 0.5:** The alpha-quantile prediction is equal to the lower bound of a predictive interval with coverage = (0.5 - alpha) * 2\n",
    "\n",
    "**alpha > 0.5:** The alpha-quantile prediction is equal to the upper bound of a predictive interval with coverage = (alpha - 0.5) * 2"
   ]
  },
  {
   "cell_type": "markdown",
   "metadata": {},
   "source": [
    "##### `predict_var` - variance predictions"
   ]
  },
  {
   "cell_type": "markdown",
   "metadata": {},
   "source": [
    "`predict_var` produces variance predictions:"
   ]
  },
  {
   "cell_type": "code",
   "execution_count": 32,
   "metadata": {},
   "outputs": [
    {
     "data": {
      "text/html": [
       "<div>\n",
       "<style scoped>\n",
       "    .dataframe tbody tr th:only-of-type {\n",
       "        vertical-align: middle;\n",
       "    }\n",
       "\n",
       "    .dataframe tbody tr th {\n",
       "        vertical-align: top;\n",
       "    }\n",
       "\n",
       "    .dataframe thead th {\n",
       "        text-align: right;\n",
       "    }\n",
       "</style>\n",
       "<table border=\"1\" class=\"dataframe\">\n",
       "  <thead>\n",
       "    <tr style=\"text-align: right;\">\n",
       "      <th></th>\n",
       "      <th>0</th>\n",
       "    </tr>\n",
       "  </thead>\n",
       "  <tbody>\n",
       "    <tr>\n",
       "      <th>1961-01</th>\n",
       "      <td>195.540039</td>\n",
       "    </tr>\n",
       "    <tr>\n",
       "      <th>1961-02</th>\n",
       "      <td>276.196489</td>\n",
       "    </tr>\n",
       "    <tr>\n",
       "      <th>1961-03</th>\n",
       "      <td>356.852939</td>\n",
       "    </tr>\n",
       "    <tr>\n",
       "      <th>1961-04</th>\n",
       "      <td>437.509389</td>\n",
       "    </tr>\n",
       "    <tr>\n",
       "      <th>1961-05</th>\n",
       "      <td>518.165839</td>\n",
       "    </tr>\n",
       "    <tr>\n",
       "      <th>1961-06</th>\n",
       "      <td>598.822289</td>\n",
       "    </tr>\n",
       "    <tr>\n",
       "      <th>1961-07</th>\n",
       "      <td>679.478739</td>\n",
       "    </tr>\n",
       "    <tr>\n",
       "      <th>1961-08</th>\n",
       "      <td>760.135189</td>\n",
       "    </tr>\n",
       "    <tr>\n",
       "      <th>1961-09</th>\n",
       "      <td>840.791639</td>\n",
       "    </tr>\n",
       "    <tr>\n",
       "      <th>1961-10</th>\n",
       "      <td>921.448089</td>\n",
       "    </tr>\n",
       "    <tr>\n",
       "      <th>1961-11</th>\n",
       "      <td>1002.104539</td>\n",
       "    </tr>\n",
       "    <tr>\n",
       "      <th>1961-12</th>\n",
       "      <td>1082.760989</td>\n",
       "    </tr>\n",
       "  </tbody>\n",
       "</table>\n",
       "</div>"
      ],
      "text/plain": [
       "                   0\n",
       "1961-01   195.540039\n",
       "1961-02   276.196489\n",
       "1961-03   356.852939\n",
       "1961-04   437.509389\n",
       "1961-05   518.165839\n",
       "1961-06   598.822289\n",
       "1961-07   679.478739\n",
       "1961-08   760.135189\n",
       "1961-09   840.791639\n",
       "1961-10   921.448089\n",
       "1961-11  1002.104539\n",
       "1961-12  1082.760989"
      ]
     },
     "execution_count": 32,
     "metadata": {},
     "output_type": "execute_result"
    }
   ],
   "source": [
    "y_pred_var = forecaster.predict_var()\n",
    "y_pred_var"
   ]
  },
  {
   "cell_type": "markdown",
   "metadata": {},
   "source": [
    "The format of the output `y_pred_var` is the same as for `predict`, except that this is always coerced to a `pandas.DataFrame`, and entries are not point predictions but variance predictions."
   ]
  },
  {
   "cell_type": "markdown",
   "metadata": {},
   "source": [
    "##### `predict_proba` - distribution predictions"
   ]
  },
  {
   "cell_type": "markdown",
   "metadata": {},
   "source": [
    "To predict full predictive distributions, `predict_proba` can be used.\n",
    "As this returns `tensorflow` `Distribution` objects, the deep learning dependency set `dl` of `sktime` (which includes `tensorflow` and `tensorflow-probability` dependencies) must be installed."
   ]
  },
  {
   "cell_type": "code",
   "execution_count": 33,
   "metadata": {},
   "outputs": [
    {
     "data": {
      "text/plain": [
       "<tfp.distributions.Normal 'Normal' batch_shape=[12, 1] event_shape=[] dtype=float32>"
      ]
     },
     "execution_count": 33,
     "metadata": {},
     "output_type": "execute_result"
    }
   ],
   "source": [
    "y_pred_proba = forecaster.predict_proba()\n",
    "y_pred_proba"
   ]
  },
  {
   "cell_type": "markdown",
   "metadata": {},
   "source": [
    "Distributions returned by `predict_proba` are by default marginal at time points, not joint over time points.\n",
    "More precisely, the returned `Distribution` object is formatted and to be interpreted as follows:\n",
    "* Batch shape is 1D and same length as fh\n",
    "* Event shape is 1D, with length equal to number of variables being forecast\n",
    "* i-th (batch) distribution is forecast for i-th entry of fh\n",
    "* j-th (event) component is j-th variable, same order as y in `fit`/`update`\n",
    "\n",
    "To return joint forecast distributions, the `marginal` parameter can be set to `False` (currently work in progress). In this case, a `Distribution` with 2D event shape `(len(fh), len(y))` is returned."
   ]
  },
  {
   "cell_type": "markdown",
   "metadata": {},
   "source": [
    "#### 1.2.6 Panel forecasts and hierarchical forecasts <a class=\"anchor\" id=\"section_1_2_6\"></a>\n",
    "\n",
    "`sktime` provides a unified interface to make panel and hierarchical forecasts.\n",
    "\n",
    "All `sktime` forecasters can be applied to panel and hierarchical data, which needs to be presented in specific input formats.\n",
    "Forecasters that are not genuinely panel or hierarchical forecasters will be applied by instance.\n",
    "\n",
    "The recommended (not the only) format to pass panel and hierarchical data is a `pandas.DataFrame` with `MultiIndex` row. In this `MultiIndex`, the last level must be in an `sktime` compatible time index format, the remaining levels are panel or hierarchy nodes.\n",
    "\n",
    "Example data:"
   ]
  },
  {
   "cell_type": "code",
   "execution_count": 34,
   "metadata": {},
   "outputs": [
    {
     "data": {
      "text/html": [
       "<div>\n",
       "<style scoped>\n",
       "    .dataframe tbody tr th:only-of-type {\n",
       "        vertical-align: middle;\n",
       "    }\n",
       "\n",
       "    .dataframe tbody tr th {\n",
       "        vertical-align: top;\n",
       "    }\n",
       "\n",
       "    .dataframe thead th {\n",
       "        text-align: right;\n",
       "    }\n",
       "</style>\n",
       "<table border=\"1\" class=\"dataframe\">\n",
       "  <thead>\n",
       "    <tr style=\"text-align: right;\">\n",
       "      <th></th>\n",
       "      <th></th>\n",
       "      <th></th>\n",
       "      <th>passengers</th>\n",
       "    </tr>\n",
       "    <tr>\n",
       "      <th>l2_agg</th>\n",
       "      <th>l1_agg</th>\n",
       "      <th>timepoints</th>\n",
       "      <th></th>\n",
       "    </tr>\n",
       "  </thead>\n",
       "  <tbody>\n",
       "    <tr>\n",
       "      <th rowspan=\"5\" valign=\"top\">l2_node01</th>\n",
       "      <th rowspan=\"5\" valign=\"top\">l1_node04</th>\n",
       "      <th>1949-01</th>\n",
       "      <td>1751.046693</td>\n",
       "    </tr>\n",
       "    <tr>\n",
       "      <th>1949-02</th>\n",
       "      <td>1847.272729</td>\n",
       "    </tr>\n",
       "    <tr>\n",
       "      <th>1949-03</th>\n",
       "      <td>2072.660808</td>\n",
       "    </tr>\n",
       "    <tr>\n",
       "      <th>1949-04</th>\n",
       "      <td>2024.264252</td>\n",
       "    </tr>\n",
       "    <tr>\n",
       "      <th>1949-05</th>\n",
       "      <td>1895.470000</td>\n",
       "    </tr>\n",
       "    <tr>\n",
       "      <th>...</th>\n",
       "      <th>...</th>\n",
       "      <th>...</th>\n",
       "      <td>...</td>\n",
       "    </tr>\n",
       "    <tr>\n",
       "      <th rowspan=\"5\" valign=\"top\">l2_node03</th>\n",
       "      <th rowspan=\"5\" valign=\"top\">l1_node05</th>\n",
       "      <th>1960-08</th>\n",
       "      <td>7843.728855</td>\n",
       "    </tr>\n",
       "    <tr>\n",
       "      <th>1960-09</th>\n",
       "      <td>6557.204770</td>\n",
       "    </tr>\n",
       "    <tr>\n",
       "      <th>1960-10</th>\n",
       "      <td>5942.431795</td>\n",
       "    </tr>\n",
       "    <tr>\n",
       "      <th>1960-11</th>\n",
       "      <td>5016.687658</td>\n",
       "    </tr>\n",
       "    <tr>\n",
       "      <th>1960-12</th>\n",
       "      <td>5563.869028</td>\n",
       "    </tr>\n",
       "  </tbody>\n",
       "</table>\n",
       "<p>864 rows × 1 columns</p>\n",
       "</div>"
      ],
      "text/plain": [
       "                                 passengers\n",
       "l2_agg    l1_agg    timepoints             \n",
       "l2_node01 l1_node04 1949-01     1751.046693\n",
       "                    1949-02     1847.272729\n",
       "                    1949-03     2072.660808\n",
       "                    1949-04     2024.264252\n",
       "                    1949-05     1895.470000\n",
       "...                                     ...\n",
       "l2_node03 l1_node05 1960-08     7843.728855\n",
       "                    1960-09     6557.204770\n",
       "                    1960-10     5942.431795\n",
       "                    1960-11     5016.687658\n",
       "                    1960-12     5563.869028\n",
       "\n",
       "[864 rows x 1 columns]"
      ]
     },
     "execution_count": 34,
     "metadata": {},
     "output_type": "execute_result"
    }
   ],
   "source": [
    "from sktime.utils._testing.hierarchical import _bottom_hier_datagen\n",
    "\n",
    "y = _bottom_hier_datagen(no_levels=2)\n",
    "y"
   ]
  },
  {
   "cell_type": "markdown",
   "metadata": {},
   "source": [
    "As stated, all forecasters, genuinely hierarchical or not, can be applied, with all workflows described in this section, to produce hierarchical forecasts.\n",
    "\n",
    "The syntax is exactly the same as for plain time series, except for the hierarchy levels in input and output data:"
   ]
  },
  {
   "cell_type": "code",
   "execution_count": 35,
   "metadata": {},
   "outputs": [
    {
     "data": {
      "text/html": [
       "<div>\n",
       "<style scoped>\n",
       "    .dataframe tbody tr th:only-of-type {\n",
       "        vertical-align: middle;\n",
       "    }\n",
       "\n",
       "    .dataframe tbody tr th {\n",
       "        vertical-align: top;\n",
       "    }\n",
       "\n",
       "    .dataframe thead th {\n",
       "        text-align: right;\n",
       "    }\n",
       "</style>\n",
       "<table border=\"1\" class=\"dataframe\">\n",
       "  <thead>\n",
       "    <tr style=\"text-align: right;\">\n",
       "      <th></th>\n",
       "      <th></th>\n",
       "      <th></th>\n",
       "      <th>passengers</th>\n",
       "    </tr>\n",
       "    <tr>\n",
       "      <th>l2_agg</th>\n",
       "      <th>l1_agg</th>\n",
       "      <th>timepoints</th>\n",
       "      <th></th>\n",
       "    </tr>\n",
       "  </thead>\n",
       "  <tbody>\n",
       "    <tr>\n",
       "      <th rowspan=\"3\" valign=\"top\">l2_node01</th>\n",
       "      <th rowspan=\"3\" valign=\"top\">l1_node04</th>\n",
       "      <th>1961-01</th>\n",
       "      <td>7025.301868</td>\n",
       "    </tr>\n",
       "    <tr>\n",
       "      <th>1961-02</th>\n",
       "      <td>6932.869186</td>\n",
       "    </tr>\n",
       "    <tr>\n",
       "      <th>1961-03</th>\n",
       "      <td>6843.846928</td>\n",
       "    </tr>\n",
       "    <tr>\n",
       "      <th rowspan=\"12\" valign=\"top\">l2_node02</th>\n",
       "      <th rowspan=\"3\" valign=\"top\">l1_node01</th>\n",
       "      <th>1961-01</th>\n",
       "      <td>426.544850</td>\n",
       "    </tr>\n",
       "    <tr>\n",
       "      <th>1961-02</th>\n",
       "      <td>421.282983</td>\n",
       "    </tr>\n",
       "    <tr>\n",
       "      <th>1961-03</th>\n",
       "      <td>416.207550</td>\n",
       "    </tr>\n",
       "    <tr>\n",
       "      <th rowspan=\"3\" valign=\"top\">l1_node02</th>\n",
       "      <th>1961-01</th>\n",
       "      <td>2831.238136</td>\n",
       "    </tr>\n",
       "    <tr>\n",
       "      <th>1961-02</th>\n",
       "      <td>2796.463164</td>\n",
       "    </tr>\n",
       "    <tr>\n",
       "      <th>1961-03</th>\n",
       "      <td>2762.919857</td>\n",
       "    </tr>\n",
       "    <tr>\n",
       "      <th rowspan=\"3\" valign=\"top\">l1_node03</th>\n",
       "      <th>1961-01</th>\n",
       "      <td>3281.334598</td>\n",
       "    </tr>\n",
       "    <tr>\n",
       "      <th>1961-02</th>\n",
       "      <td>3235.589398</td>\n",
       "    </tr>\n",
       "    <tr>\n",
       "      <th>1961-03</th>\n",
       "      <td>3191.591150</td>\n",
       "    </tr>\n",
       "    <tr>\n",
       "      <th rowspan=\"3\" valign=\"top\">l1_node06</th>\n",
       "      <th>1961-01</th>\n",
       "      <td>699.784723</td>\n",
       "    </tr>\n",
       "    <tr>\n",
       "      <th>1961-02</th>\n",
       "      <td>687.976011</td>\n",
       "    </tr>\n",
       "    <tr>\n",
       "      <th>1961-03</th>\n",
       "      <td>676.678320</td>\n",
       "    </tr>\n",
       "    <tr>\n",
       "      <th rowspan=\"3\" valign=\"top\">l2_node03</th>\n",
       "      <th rowspan=\"3\" valign=\"top\">l1_node05</th>\n",
       "      <th>1961-01</th>\n",
       "      <td>5492.522368</td>\n",
       "    </tr>\n",
       "    <tr>\n",
       "      <th>1961-02</th>\n",
       "      <td>5423.732250</td>\n",
       "    </tr>\n",
       "    <tr>\n",
       "      <th>1961-03</th>\n",
       "      <td>5357.407064</td>\n",
       "    </tr>\n",
       "  </tbody>\n",
       "</table>\n",
       "</div>"
      ],
      "text/plain": [
       "                                 passengers\n",
       "l2_agg    l1_agg    timepoints             \n",
       "l2_node01 l1_node04 1961-01     7025.301868\n",
       "                    1961-02     6932.869186\n",
       "                    1961-03     6843.846928\n",
       "l2_node02 l1_node01 1961-01      426.544850\n",
       "                    1961-02      421.282983\n",
       "                    1961-03      416.207550\n",
       "          l1_node02 1961-01     2831.238136\n",
       "                    1961-02     2796.463164\n",
       "                    1961-03     2762.919857\n",
       "          l1_node03 1961-01     3281.334598\n",
       "                    1961-02     3235.589398\n",
       "                    1961-03     3191.591150\n",
       "          l1_node06 1961-01      699.784723\n",
       "                    1961-02      687.976011\n",
       "                    1961-03      676.678320\n",
       "l2_node03 l1_node05 1961-01     5492.522368\n",
       "                    1961-02     5423.732250\n",
       "                    1961-03     5357.407064"
      ]
     },
     "execution_count": 35,
     "metadata": {},
     "output_type": "execute_result"
    }
   ],
   "source": [
    "from sktime.forecasting.arima import ARIMA\n",
    "\n",
    "fh = [1, 2, 3]\n",
    "\n",
    "forecaster = ARIMA()\n",
    "forecaster.fit(y, fh=fh)\n",
    "forecaster.predict()"
   ]
  },
  {
   "cell_type": "markdown",
   "metadata": {},
   "source": [
    "Similar to multivariate forecasting, forecasters that are not genuinely hierarchical fit by instance.\n",
    "The forecasters fitted by instance can be accessed in the `forecasters_` parameter, which is a `pandas.DataFrame` where forecasters for a given instance are placed in the row with the index of the instance for which they make forecasts:"
   ]
  },
  {
   "cell_type": "code",
   "execution_count": 36,
   "metadata": {},
   "outputs": [
    {
     "data": {
      "text/html": [
       "<div>\n",
       "<style scoped>\n",
       "    .dataframe tbody tr th:only-of-type {\n",
       "        vertical-align: middle;\n",
       "    }\n",
       "\n",
       "    .dataframe tbody tr th {\n",
       "        vertical-align: top;\n",
       "    }\n",
       "\n",
       "    .dataframe thead th {\n",
       "        text-align: right;\n",
       "    }\n",
       "</style>\n",
       "<table border=\"1\" class=\"dataframe\">\n",
       "  <thead>\n",
       "    <tr style=\"text-align: right;\">\n",
       "      <th></th>\n",
       "      <th></th>\n",
       "      <th>forecasters</th>\n",
       "    </tr>\n",
       "    <tr>\n",
       "      <th>l2_agg</th>\n",
       "      <th>l1_agg</th>\n",
       "      <th></th>\n",
       "    </tr>\n",
       "  </thead>\n",
       "  <tbody>\n",
       "    <tr>\n",
       "      <th>l2_node01</th>\n",
       "      <th>l1_node04</th>\n",
       "      <td>ARIMA()</td>\n",
       "    </tr>\n",
       "    <tr>\n",
       "      <th rowspan=\"4\" valign=\"top\">l2_node02</th>\n",
       "      <th>l1_node01</th>\n",
       "      <td>ARIMA()</td>\n",
       "    </tr>\n",
       "    <tr>\n",
       "      <th>l1_node02</th>\n",
       "      <td>ARIMA()</td>\n",
       "    </tr>\n",
       "    <tr>\n",
       "      <th>l1_node03</th>\n",
       "      <td>ARIMA()</td>\n",
       "    </tr>\n",
       "    <tr>\n",
       "      <th>l1_node06</th>\n",
       "      <td>ARIMA()</td>\n",
       "    </tr>\n",
       "    <tr>\n",
       "      <th>l2_node03</th>\n",
       "      <th>l1_node05</th>\n",
       "      <td>ARIMA()</td>\n",
       "    </tr>\n",
       "  </tbody>\n",
       "</table>\n",
       "</div>"
      ],
      "text/plain": [
       "                    forecasters\n",
       "l2_agg    l1_agg               \n",
       "l2_node01 l1_node04     ARIMA()\n",
       "l2_node02 l1_node01     ARIMA()\n",
       "          l1_node02     ARIMA()\n",
       "          l1_node03     ARIMA()\n",
       "          l1_node06     ARIMA()\n",
       "l2_node03 l1_node05     ARIMA()"
      ]
     },
     "execution_count": 36,
     "metadata": {},
     "output_type": "execute_result"
    }
   ],
   "source": [
    "forecaster.forecasters_"
   ]
  },
  {
   "cell_type": "markdown",
   "metadata": {},
   "source": [
    "If the data is both hierarchical and multivariate, and the forecaster cannot genuinely deal with either, the `forecasters_` attribute will have both column indices, for variables, and row indices, for instances, with forecasters fitted per instance and variable:"
   ]
  },
  {
   "cell_type": "code",
   "execution_count": 37,
   "metadata": {},
   "outputs": [
    {
     "data": {
      "text/html": [
       "<div>\n",
       "<style scoped>\n",
       "    .dataframe tbody tr th:only-of-type {\n",
       "        vertical-align: middle;\n",
       "    }\n",
       "\n",
       "    .dataframe tbody tr th {\n",
       "        vertical-align: top;\n",
       "    }\n",
       "\n",
       "    .dataframe thead th {\n",
       "        text-align: right;\n",
       "    }\n",
       "</style>\n",
       "<table border=\"1\" class=\"dataframe\">\n",
       "  <thead>\n",
       "    <tr style=\"text-align: right;\">\n",
       "      <th></th>\n",
       "      <th></th>\n",
       "      <th>c0</th>\n",
       "      <th>c1</th>\n",
       "    </tr>\n",
       "    <tr>\n",
       "      <th>h0</th>\n",
       "      <th>h1</th>\n",
       "      <th></th>\n",
       "      <th></th>\n",
       "    </tr>\n",
       "  </thead>\n",
       "  <tbody>\n",
       "    <tr>\n",
       "      <th rowspan=\"4\" valign=\"top\">h0_0</th>\n",
       "      <th>h1_0</th>\n",
       "      <td>ARIMA()</td>\n",
       "      <td>ARIMA()</td>\n",
       "    </tr>\n",
       "    <tr>\n",
       "      <th>h1_1</th>\n",
       "      <td>ARIMA()</td>\n",
       "      <td>ARIMA()</td>\n",
       "    </tr>\n",
       "    <tr>\n",
       "      <th>h1_2</th>\n",
       "      <td>ARIMA()</td>\n",
       "      <td>ARIMA()</td>\n",
       "    </tr>\n",
       "    <tr>\n",
       "      <th>h1_3</th>\n",
       "      <td>ARIMA()</td>\n",
       "      <td>ARIMA()</td>\n",
       "    </tr>\n",
       "    <tr>\n",
       "      <th rowspan=\"4\" valign=\"top\">h0_1</th>\n",
       "      <th>h1_0</th>\n",
       "      <td>ARIMA()</td>\n",
       "      <td>ARIMA()</td>\n",
       "    </tr>\n",
       "    <tr>\n",
       "      <th>h1_1</th>\n",
       "      <td>ARIMA()</td>\n",
       "      <td>ARIMA()</td>\n",
       "    </tr>\n",
       "    <tr>\n",
       "      <th>h1_2</th>\n",
       "      <td>ARIMA()</td>\n",
       "      <td>ARIMA()</td>\n",
       "    </tr>\n",
       "    <tr>\n",
       "      <th>h1_3</th>\n",
       "      <td>ARIMA()</td>\n",
       "      <td>ARIMA()</td>\n",
       "    </tr>\n",
       "  </tbody>\n",
       "</table>\n",
       "</div>"
      ],
      "text/plain": [
       "                c0       c1\n",
       "h0   h1                    \n",
       "h0_0 h1_0  ARIMA()  ARIMA()\n",
       "     h1_1  ARIMA()  ARIMA()\n",
       "     h1_2  ARIMA()  ARIMA()\n",
       "     h1_3  ARIMA()  ARIMA()\n",
       "h0_1 h1_0  ARIMA()  ARIMA()\n",
       "     h1_1  ARIMA()  ARIMA()\n",
       "     h1_2  ARIMA()  ARIMA()\n",
       "     h1_3  ARIMA()  ARIMA()"
      ]
     },
     "execution_count": 37,
     "metadata": {},
     "output_type": "execute_result"
    }
   ],
   "source": [
    "from sktime.forecasting.arima import ARIMA\n",
    "from sktime.utils._testing.hierarchical import _make_hierarchical\n",
    "\n",
    "y = _make_hierarchical(n_columns=2)\n",
    "\n",
    "fh = [1, 2, 3]\n",
    "\n",
    "forecaster = ARIMA()\n",
    "forecaster.fit(y, fh=fh)\n",
    "\n",
    "forecaster.forecasters_"
   ]
  },
  {
   "cell_type": "markdown",
   "metadata": {},
   "source": [
    "Further details on hierarchical forecasting, including reduction, aggregation, reconciliation, are presented in the \"hierarchical forecasting\" tutorial."
   ]
  },
  {
   "cell_type": "markdown",
   "metadata": {},
   "source": [
    "### 1.3 Basic evaluation workflow - evaluating a batch of forecasts against ground truth observations<a class=\"anchor\" id=\"section_1_3\"></a>\n",
    "\n",
    "It is good practice to evaluate statistical performance of a forecaster before deploying it, and regularly re-evaluate performance if in continuous deployment. The evaluation workflow for the basic batch forecasting task, as solved by the workflow in Section 1.2, consists of comparing batch forecasts with actuals. This is sometimes called (batch-wise) backtesting.\n",
    "\n",
    "The basic evaluation workflow is as follows:\n",
    "\n",
    "1. Splitting a representatively chosen historical series into a temporal training and test set. The test set should be temporally in the future of the training set.\n",
    "2. Obtaining batch forecasts, as in Section 1.2, by fitting a forecaster to the training set, and querying predictions for the test set\n",
    "3. Specifying a quantitative performance metric to compare the actual test set against predictions\n",
    "4. Computing the quantitative performance on the test set\n",
    "5. Testing whether this performance is statistically better than a chosen baseline performance\n",
    "\n",
    "NOTE: Step 5 (testing) is currently not supported in `sktime`, but is on the development roadmap. For the time being, it is advised to use custom implementations of appropriate methods (e.g., Diebold-Mariano test; stationary confidence intervals).\n",
    "\n",
    "NOTE: Note that this evaluation set-up determines how well a given algorithm would have performed on past data. Results are only insofar representative as future performance can be assumed to mirror past performance. This can be argued under certain assumptions (e.g., stationarity), but will in general be false. Monitoring of forecasting performance is hence advised in case an algorithm is applied multiple times."
   ]
  },
  {
   "cell_type": "markdown",
   "metadata": {},
   "source": [
    "**Example:** In the example, we will us the same airline data as in Section 1.2. But, instead of predicting the next 3 years, we hold out the last 3 years of the airline data (below: `y_test`), and see how the forecaster would have performed three years ago, when asked to forecast the most recent 3 years (below: `y_pred`), from the years before (below: `y_train`). \"how\" is measured by a quantitative performance metric (below: `mean_absolute_percentage_error`). This is then considered as an indication of how well the forecaster would perform in the coming 3 years (what was done in Section 1.2). This may or may not be a stretch depending on statistical assumptions and data properties (caution: it often is a stretch - past performance is in general not indicative of future performance)."
   ]
  },
  {
   "cell_type": "markdown",
   "metadata": {},
   "source": [
    "#### Step 1 - Splitting a historical data set in to a temporal train and test batch"
   ]
  },
  {
   "cell_type": "code",
   "execution_count": 38,
   "metadata": {},
   "outputs": [],
   "source": [
    "from sktime.split import temporal_train_test_split"
   ]
  },
  {
   "cell_type": "code",
   "execution_count": 39,
   "metadata": {},
   "outputs": [],
   "source": [
    "y = load_airline()\n",
    "y_train, y_test = temporal_train_test_split(y, test_size=36)\n",
    "# we will try to forecast y_test from y_train"
   ]
  },
  {
   "cell_type": "code",
   "execution_count": 40,
   "metadata": {},
   "outputs": [
    {
     "data": {
      "image/png": "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",
      "text/plain": [
       "<Figure size 1152x288 with 1 Axes>"
      ]
     },
     "metadata": {
      "needs_background": "light"
     },
     "output_type": "display_data"
    }
   ],
   "source": [
    "# plotting for illustration\n",
    "plot_series(y_train, y_test, labels=[\"y_train\", \"y_test\"])\n",
    "print(y_train.shape[0], y_test.shape[0])"
   ]
  },
  {
   "cell_type": "markdown",
   "metadata": {},
   "source": [
    "#### Step 2 - Making forecasts for y_test from y_train\n",
    "\n",
    "This is almost verbatim the workflow in Section 1.2, using `y_train` to predict the indices of `y_test`."
   ]
  },
  {
   "cell_type": "code",
   "execution_count": 41,
   "metadata": {},
   "outputs": [],
   "source": [
    "# we can simply take the indices from `y_test` where they already are stored\n",
    "fh = ForecastingHorizon(y_test.index, is_relative=False)\n",
    "\n",
    "forecaster = NaiveForecaster(strategy=\"last\", sp=12)\n",
    "\n",
    "forecaster.fit(y_train)\n",
    "\n",
    "# y_pred will contain the predictions\n",
    "y_pred = forecaster.predict(fh)"
   ]
  },
  {
   "cell_type": "code",
   "execution_count": 42,
   "metadata": {},
   "outputs": [
    {
     "data": {
      "text/plain": [
       "(<Figure size 1152x288 with 1 Axes>,\n",
       " <AxesSubplot:ylabel='Number of airline passengers'>)"
      ]
     },
     "execution_count": 42,
     "metadata": {},
     "output_type": "execute_result"
    },
    {
     "data": {
      "image/png": "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",
      "text/plain": [
       "<Figure size 1152x288 with 1 Axes>"
      ]
     },
     "metadata": {
      "needs_background": "light"
     },
     "output_type": "display_data"
    }
   ],
   "source": [
    "# plotting for illustration\n",
    "plot_series(y_train, y_test, y_pred, labels=[\"y_train\", \"y_test\", \"y_pred\"])"
   ]
  },
  {
   "cell_type": "markdown",
   "metadata": {},
   "source": [
    "#### Steps 3 and 4 - Specifying a forecasting metric, evaluating on the test set\n",
    "\n",
    "The next step is to specify a forecasting metric. These are functions that return a number when input with prediction and actual series. They are different from `sklearn` metrics in that they accept series with indices rather than `np.array`s. Forecasting metrics can be invoked in two ways:\n",
    "\n",
    "* using the lean function interface, e.g., `mean_absolute_percentage_error` which is a python function `(y_true : pd.Series, y_pred : pd.Series) -> float`\n",
    "* using the composable class interface, e.g., `MeanAbsolutePercentageError`, which is a python class, callable with the same signature\n",
    "\n",
    "Casual users may opt to use the function interface. The class interface supports advanced use cases, such as parameter modification, custom metric composition, tuning over metric parameters (not covered in this tutorial)"
   ]
  },
  {
   "cell_type": "code",
   "execution_count": 43,
   "metadata": {},
   "outputs": [],
   "source": [
    "from sktime.performance_metrics.forecasting import mean_absolute_percentage_error"
   ]
  },
  {
   "cell_type": "code",
   "execution_count": 44,
   "metadata": {},
   "outputs": [
    {
     "data": {
      "text/plain": [
       "0.13189432350948402"
      ]
     },
     "execution_count": 44,
     "metadata": {},
     "output_type": "execute_result"
    }
   ],
   "source": [
    "# option 1: using the lean function interface\n",
    "mean_absolute_percentage_error(y_test, y_pred, symmetric=False)\n",
    "# note: the FIRST argument is the ground truth, the SECOND argument are the forecasts\n",
    "#       the order matters for most metrics in general"
   ]
  },
  {
   "cell_type": "markdown",
   "metadata": {},
   "source": [
    "To properly interpret numbers like this, it is useful to understand properties of the metric in question (e.g., lower is better), and to compare against suitable baselines and contender algorithms (see step 5)."
   ]
  },
  {
   "cell_type": "code",
   "execution_count": 45,
   "metadata": {},
   "outputs": [],
   "source": [
    "from sktime.performance_metrics.forecasting import MeanAbsolutePercentageError"
   ]
  },
  {
   "cell_type": "code",
   "execution_count": 46,
   "metadata": {},
   "outputs": [
    {
     "data": {
      "text/plain": [
       "True"
      ]
     },
     "execution_count": 46,
     "metadata": {},
     "output_type": "execute_result"
    }
   ],
   "source": [
    "# option 2: using the composable class interface\n",
    "mape = MeanAbsolutePercentageError(symmetric=False)\n",
    "# the class interface allows to easily construct variants of the MAPE\n",
    "#  e.g., the non-symmetric version\n",
    "# it also allows for inspection of metric properties\n",
    "#  e.g., are higher values better (answer: no)?\n",
    "mape.get_tag(\"lower_is_better\")"
   ]
  },
  {
   "cell_type": "code",
   "execution_count": 47,
   "metadata": {},
   "outputs": [
    {
     "data": {
      "text/plain": [
       "0.13189432350948402"
      ]
     },
     "execution_count": 47,
     "metadata": {},
     "output_type": "execute_result"
    }
   ],
   "source": [
    "# evaluation works exactly like in option 2, but with the instantiated object\n",
    "mape(y_test, y_pred)"
   ]
  },
  {
   "cell_type": "markdown",
   "metadata": {},
   "source": [
    "NOTE: Some metrics, such as `mean_absolute_scaled_error`, also require the training set for evaluation. In this case, the training set should be passed as a `y_train` argument. Refer to the API reference on individual metrics.\n",
    "\n",
    "NOTE: The workflow is the same for forecasters that make use of exogeneous data - no `X` is passed to the metrics."
   ]
  },
  {
   "cell_type": "markdown",
   "metadata": {},
   "source": [
    "#### Step 5 - Testing performance against benchmarks\n",
    "\n",
    "In general, forecast performances should be quantitatively tested against benchmark performances.\n",
    "\n",
    "Currently (`sktime` v0.12.x), this is a roadmap development item. Contributions are very welcome."
   ]
  },
  {
   "cell_type": "markdown",
   "metadata": {},
   "source": [
    "#### 1.3.1 The basic batch forecast evaluation workflow in a nutshell - function metric interface<a class=\"anchor\" id=\"section_1_3_1\"></a>\n",
    "\n",
    "For convenience, we present the basic batch forecast evaluation workflow in one cell.\n",
    "This cell is using the lean function metric interface."
   ]
  },
  {
   "cell_type": "code",
   "execution_count": 48,
   "metadata": {},
   "outputs": [],
   "source": [
    "from sktime.datasets import load_airline\n",
    "from sktime.forecasting.base import ForecastingHorizon\n",
    "from sktime.forecasting.naive import NaiveForecaster\n",
    "from sktime.performance_metrics.forecasting import mean_absolute_percentage_error\n",
    "from sktime.split import temporal_train_test_split"
   ]
  },
  {
   "cell_type": "code",
   "execution_count": 49,
   "metadata": {},
   "outputs": [
    {
     "data": {
      "text/plain": [
       "0.13189432350948402"
      ]
     },
     "execution_count": 49,
     "metadata": {},
     "output_type": "execute_result"
    }
   ],
   "source": [
    "# step 1: splitting historical data\n",
    "y = load_airline()\n",
    "y_train, y_test = temporal_train_test_split(y, test_size=36)\n",
    "\n",
    "# step 2: running the basic forecasting workflow\n",
    "fh = ForecastingHorizon(y_test.index, is_relative=False)\n",
    "forecaster = NaiveForecaster(strategy=\"last\", sp=12)\n",
    "forecaster.fit(y_train)\n",
    "y_pred = forecaster.predict(fh)\n",
    "\n",
    "# step 3: specifying the evaluation metric and\n",
    "# step 4: computing the forecast performance\n",
    "mean_absolute_percentage_error(y_test, y_pred, symmetric=False)\n",
    "\n",
    "# step 5: testing forecast performance against baseline\n",
    "# under development"
   ]
  },
  {
   "cell_type": "markdown",
   "metadata": {},
   "source": [
    "#### 1.3.2 The basic batch forecast evaluation workflow in a nutshell - metric class interface<a class=\"anchor\" id=\"section_1_3_2\"></a>\n",
    "\n",
    "For convenience, we present the basic batch forecast evaluation workflow in one cell.\n",
    "This cell is using the advanced class specification interface for metrics."
   ]
  },
  {
   "cell_type": "code",
   "execution_count": 50,
   "metadata": {},
   "outputs": [],
   "source": [
    "from sktime.datasets import load_airline\n",
    "from sktime.forecasting.base import ForecastingHorizon\n",
    "from sktime.forecasting.naive import NaiveForecaster\n",
    "from sktime.performance_metrics.forecasting import MeanAbsolutePercentageError\n",
    "from sktime.split import temporal_train_test_split"
   ]
  },
  {
   "cell_type": "code",
   "execution_count": 51,
   "metadata": {},
   "outputs": [
    {
     "data": {
      "text/plain": [
       "0.13189432350948402"
      ]
     },
     "execution_count": 51,
     "metadata": {},
     "output_type": "execute_result"
    }
   ],
   "source": [
    "# step 1: splitting historical data\n",
    "y = load_airline()\n",
    "y_train, y_test = temporal_train_test_split(y, test_size=36)\n",
    "\n",
    "# step 2: running the basic forecasting workflow\n",
    "fh = ForecastingHorizon(y_test.index, is_relative=False)\n",
    "forecaster = NaiveForecaster(strategy=\"last\", sp=12)\n",
    "forecaster.fit(y_train)\n",
    "y_pred = forecaster.predict(fh)\n",
    "\n",
    "# step 3: specifying the evaluation metric\n",
    "mape = MeanAbsolutePercentageError(symmetric=False)\n",
    "# if function interface is used, just use the function directly in step 4\n",
    "\n",
    "# step 4: computing the forecast performance\n",
    "mape(y_test, y_pred)\n",
    "\n",
    "# step 5: testing forecast performance against baseline\n",
    "# under development"
   ]
  },
  {
   "cell_type": "markdown",
   "metadata": {},
   "source": [
    "### 1.4 Advanced deployment workflow: rolling updates & forecasts<a class=\"anchor\" id=\"section_1_4\"></a>\n",
    "\n",
    "A common use case requires the forecaster to regularly update with new data and make forecasts on a rolling basis. This is especially useful if the same kind of forecast has to be made at regular time points, e.g., daily or weekly. `sktime` forecasters support this type of deployment workflow via the `update` and `update_predict` methods."
   ]
  },
  {
   "cell_type": "markdown",
   "metadata": {},
   "source": [
    "### 1.4.1 Updating a forecaster with the `update` method<a class=\"anchor\" id=\"section_1_4_1\"></a>\n",
    "\n",
    "The `update` method can be called when a forecaster is already fitted, to ingest new data and make updated forecasts - this is referred to as an \"update step\".\n",
    "\n",
    "After the update, the forecaster's internal \"now\" state (the `cutoff`) is set to the latest time stamp seen in the update batch (assumed to be later than previously seen data).\n",
    "\n",
    "The general pattern is as follows:\n",
    "\n",
    "1. Specify a forecasting strategy\n",
    "2. Specify a relative forecasting horizon\n",
    "3. Fit the forecaster to an initial batch of data using `fit`\n",
    "4. Make forecasts for the relative forecasting horizon, using `predict`\n",
    "5. Obtain new data; use `update` to ingest new data\n",
    "6. Make forecasts using `predict` for the updated data\n",
    "7. Repeat 5 and 6 as often as required\n",
    "\n",
    "**Example**: suppose that, in the airline example, we want to make forecasts a year ahead, but every month, starting December 1957. The first few months, forecasts would be made as follows:"
   ]
  },
  {
   "cell_type": "code",
   "execution_count": 52,
   "metadata": {},
   "outputs": [],
   "source": [
    "from sktime.datasets import load_airline\n",
    "from sktime.forecasting.ets import AutoETS\n",
    "from sktime.utils.plotting import plot_series"
   ]
  },
  {
   "cell_type": "code",
   "execution_count": 53,
   "metadata": {},
   "outputs": [],
   "source": [
    "# we prepare the full data set for convenience\n",
    "# note that in the scenario we will \"know\" only part of this at certain time points\n",
    "y = load_airline()"
   ]
  },
  {
   "cell_type": "code",
   "execution_count": 54,
   "metadata": {},
   "outputs": [],
   "source": [
    "# December 1957\n",
    "\n",
    "# this is the data known in December 1957\n",
    "y_1957Dec = y[:-36]\n",
    "\n",
    "# step 1: specifying the forecasting strategy\n",
    "forecaster = AutoETS(auto=True, sp=12, n_jobs=-1)\n",
    "\n",
    "# step 2: specifying the forecasting horizon: one year ahead, all months\n",
    "fh = np.arange(1, 13)\n",
    "\n",
    "# step 3: this is the first time we use the model, so we fit it\n",
    "forecaster.fit(y_1957Dec)\n",
    "\n",
    "# step 4: obtaining the first batch of forecasts for Jan 1958 - Dec 1958\n",
    "y_pred_1957Dec = forecaster.predict(fh)"
   ]
  },
  {
   "cell_type": "code",
   "execution_count": 55,
   "metadata": {},
   "outputs": [
    {
     "data": {
      "text/plain": [
       "(<Figure size 1152x288 with 1 Axes>,\n",
       " <AxesSubplot:ylabel='Number of airline passengers'>)"
      ]
     },
     "execution_count": 55,
     "metadata": {},
     "output_type": "execute_result"
    },
    {
     "data": {
      "image/png": "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",
      "text/plain": [
       "<Figure size 1152x288 with 1 Axes>"
      ]
     },
     "metadata": {
      "needs_background": "light"
     },
     "output_type": "display_data"
    }
   ],
   "source": [
    "# plotting predictions and past data\n",
    "plot_series(y_1957Dec, y_pred_1957Dec, labels=[\"y_1957Dec\", \"y_pred_1957Dec\"])"
   ]
  },
  {
   "cell_type": "code",
   "execution_count": 56,
   "metadata": {},
   "outputs": [],
   "source": [
    "# January 1958\n",
    "\n",
    "# new data is observed:\n",
    "y_1958Jan = y[[-36]]\n",
    "\n",
    "# step 5: we update the forecaster with the new data\n",
    "forecaster.update(y_1958Jan)\n",
    "\n",
    "# step 6: making forecasts with the updated data\n",
    "y_pred_1958Jan = forecaster.predict(fh)"
   ]
  },
  {
   "cell_type": "code",
   "execution_count": 57,
   "metadata": {},
   "outputs": [
    {
     "data": {
      "text/plain": [
       "1958-02    341.514630\n",
       "1958-03    392.849241\n",
       "1958-04    378.518543\n",
       "1958-05    375.658188\n",
       "1958-06    426.006944\n",
       "1958-07    470.569699\n",
       "1958-08    467.100443\n",
       "1958-09    414.450926\n",
       "1958-10    360.957054\n",
       "1958-11    315.202860\n",
       "1958-12    357.898458\n",
       "1959-01    363.036833\n",
       "Freq: M, dtype: float64"
      ]
     },
     "execution_count": 57,
     "metadata": {},
     "output_type": "execute_result"
    }
   ],
   "source": [
    "# note that the fh is relative, so forecasts are automatically for 1 month later\n",
    "#  i.e., from Feb 1958 to Jan 1959\n",
    "y_pred_1958Jan"
   ]
  },
  {
   "cell_type": "code",
   "execution_count": 58,
   "metadata": {},
   "outputs": [
    {
     "data": {
      "text/plain": [
       "(<Figure size 1152x288 with 1 Axes>,\n",
       " <AxesSubplot:ylabel='Number of airline passengers'>)"
      ]
     },
     "execution_count": 58,
     "metadata": {},
     "output_type": "execute_result"
    },
    {
     "data": {
      "image/png": "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",
      "text/plain": [
       "<Figure size 1152x288 with 1 Axes>"
      ]
     },
     "metadata": {
      "needs_background": "light"
     },
     "output_type": "display_data"
    }
   ],
   "source": [
    "# plotting predictions and past data\n",
    "plot_series(\n",
    "    y[:-35],\n",
    "    y_pred_1957Dec,\n",
    "    y_pred_1958Jan,\n",
    "    labels=[\"y_1957Dec\", \"y_pred_1957Dec\", \"y_pred_1958Jan\"],\n",
    ")"
   ]
  },
  {
   "cell_type": "code",
   "execution_count": 59,
   "metadata": {},
   "outputs": [],
   "source": [
    "# February 1958\n",
    "\n",
    "# new data is observed:\n",
    "y_1958Feb = y[[-35]]\n",
    "\n",
    "# step 5: we update the forecaster with the new data\n",
    "forecaster.update(y_1958Feb)\n",
    "\n",
    "# step 6: making forecasts with the updated data\n",
    "y_pred_1958Feb = forecaster.predict(fh)"
   ]
  },
  {
   "cell_type": "code",
   "execution_count": 60,
   "metadata": {},
   "outputs": [
    {
     "data": {
      "text/plain": [
       "(<Figure size 1152x288 with 1 Axes>,\n",
       " <AxesSubplot:ylabel='Number of airline passengers'>)"
      ]
     },
     "execution_count": 60,
     "metadata": {},
     "output_type": "execute_result"
    },
    {
     "data": {
      "image/png": "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",
      "text/plain": [
       "<Figure size 1152x288 with 1 Axes>"
      ]
     },
     "metadata": {
      "needs_background": "light"
     },
     "output_type": "display_data"
    }
   ],
   "source": [
    "# plotting predictions and past data\n",
    "plot_series(\n",
    "    y[:-35],\n",
    "    y_pred_1957Dec,\n",
    "    y_pred_1958Jan,\n",
    "    y_pred_1958Feb,\n",
    "    labels=[\"y_1957Dec\", \"y_pred_1957Dec\", \"y_pred_1958Jan\", \"y_pred_1958Feb\"],\n",
    ")"
   ]
  },
  {
   "cell_type": "markdown",
   "metadata": {},
   "source": [
    "... and so on.\n",
    "\n",
    "A shorthand for running first `update` and then `predict` is `update_predict_single` - for some algorithms, this may be more efficient than the separate calls to `update` and `predict`:"
   ]
  },
  {
   "cell_type": "code",
   "execution_count": 61,
   "metadata": {},
   "outputs": [
    {
     "data": {
      "text/plain": [
       "1958-04    349.161935\n",
       "1958-05    346.920065\n",
       "1958-06    394.051656\n",
       "1958-07    435.839910\n",
       "1958-08    433.316755\n",
       "1958-09    384.841740\n",
       "1958-10    335.535138\n",
       "1958-11    293.171527\n",
       "1958-12    333.275492\n",
       "1959-01    338.595127\n",
       "1959-02    336.983070\n",
       "1959-03    388.121198\n",
       "Freq: M, dtype: float64"
      ]
     },
     "execution_count": 61,
     "metadata": {},
     "output_type": "execute_result"
    }
   ],
   "source": [
    "# March 1958\n",
    "\n",
    "# new data is observed:\n",
    "y_1958Mar = y[[-34]]\n",
    "\n",
    "# step 5&6: update/predict in one step\n",
    "forecaster.update_predict_single(y_1958Mar, fh=fh)"
   ]
  },
  {
   "cell_type": "markdown",
   "metadata": {},
   "source": [
    "### 1.4.2 Moving the \"now\" state without updating the model<a class=\"anchor\" id=\"section_1_4_2\"></a>\n",
    "\n",
    "In the rolling deployment mode, may be useful to move the estimator's \"now\" state (the `cutoff`) to later, for example if no new data was observed, but time has progressed; or, if computations take too long, and forecasts have to be queried.\n",
    "\n",
    "The `update` interface provides an option for this, via the `update_params` argument of `update` and other update functions.\n",
    "\n",
    "If `update_params` is set to `False`, no model upda